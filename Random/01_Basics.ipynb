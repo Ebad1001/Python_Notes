{
 "cells": [
  {
   "cell_type": "code",
   "execution_count": 28,
   "id": "85804641",
   "metadata": {},
   "outputs": [],
   "source": [
    "import random"
   ]
  },
  {
   "cell_type": "markdown",
   "id": "7fe2ddc5",
   "metadata": {},
   "source": [
    "`random.random()`: Generates a random float number between 0.0 to 1.0."
   ]
  },
  {
   "cell_type": "code",
   "execution_count": 29,
   "id": "9d9549f3",
   "metadata": {},
   "outputs": [
    {
     "name": "stdout",
     "output_type": "stream",
     "text": [
      "0.00750690019612088\n"
     ]
    }
   ],
   "source": [
    "value = random.random() \n",
    "print(value)"
   ]
  },
  {
   "cell_type": "markdown",
   "id": "8ef3b46b",
   "metadata": {},
   "source": [
    "`random.uniform(a, b)`: Generates a random float number between the values `a` and `b`."
   ]
  },
  {
   "cell_type": "code",
   "execution_count": 30,
   "id": "83018f52",
   "metadata": {},
   "outputs": [
    {
     "name": "stdout",
     "output_type": "stream",
     "text": [
      "6.911850924508882\n"
     ]
    }
   ],
   "source": [
    "value = random.uniform(1, 10)\n",
    "print(value)"
   ]
  },
  {
   "cell_type": "markdown",
   "id": "6cd837b5",
   "metadata": {},
   "source": [
    "`random.randint(a, b)`: Generates a random integer between the values `a` and `b`."
   ]
  },
  {
   "cell_type": "code",
   "execution_count": null,
   "id": "71988233",
   "metadata": {},
   "outputs": [
    {
     "name": "stdout",
     "output_type": "stream",
     "text": [
      "7\n"
     ]
    }
   ],
   "source": [
    "value = random.randint(1, 6)\n",
    "print(value)"
   ]
  },
  {
   "cell_type": "markdown",
   "id": "70b6f7e6",
   "metadata": {},
   "source": [
    "`random.choice(sequence)`: Selects a random element from a non-empty sequence."
   ]
  },
  {
   "cell_type": "code",
   "execution_count": 32,
   "id": "9a42b03d",
   "metadata": {},
   "outputs": [
    {
     "name": "stdout",
     "output_type": "stream",
     "text": [
      "scissors\n"
     ]
    }
   ],
   "source": [
    "moves = [\"rock\", \"paper\", \"scissors\"]\n",
    "value = random.choice(moves)\n",
    "print(value)"
   ]
  },
  {
   "cell_type": "markdown",
   "id": "53ee97a2",
   "metadata": {},
   "source": [
    "`random.choices(sequence, k)`: Selects `k` random elements from a population with replacement."
   ]
  },
  {
   "cell_type": "code",
   "execution_count": 33,
   "id": "4785248f",
   "metadata": {},
   "outputs": [
    {
     "name": "stdout",
     "output_type": "stream",
     "text": [
      "['green', 'red', 'blue', 'red', 'green']\n"
     ]
    }
   ],
   "source": [
    "colors = [\"red\", \"green\", \"blue\", \"yellow\"]\n",
    "value = random.choices(colors, k=5)\n",
    "print(value)"
   ]
  },
  {
   "cell_type": "markdown",
   "id": "bb9ffefa",
   "metadata": {},
   "source": [
    "`random.choices(sequence, weights, k)`: Selects `k` weighted random elements from a population with replacement."
   ]
  },
  {
   "cell_type": "code",
   "execution_count": 34,
   "id": "57bd6799",
   "metadata": {},
   "outputs": [
    {
     "name": "stdout",
     "output_type": "stream",
     "text": [
      "['green', 'yellow', 'yellow', 'green', 'blue']\n"
     ]
    }
   ],
   "source": [
    "weights = [1, 2, 3, 4]\n",
    "colors = [\"red\", \"green\", \"blue\", \"yellow\"]\n",
    "value = random.choices(colors, weights, k=5)\n",
    "print(value)"
   ]
  },
  {
   "cell_type": "markdown",
   "id": "f37e9d32",
   "metadata": {},
   "source": [
    "`random.shuffle(sequence)`: Shuffles the given sequence."
   ]
  },
  {
   "cell_type": "code",
   "execution_count": 35,
   "id": "779755bb",
   "metadata": {},
   "outputs": [
    {
     "name": "stdout",
     "output_type": "stream",
     "text": [
      "['3', 'Q', 'K', 'A', 'J', '6', '9', '4', '2', '10', '8', '7', '5']\n"
     ]
    }
   ],
   "source": [
    "deck = ['A', '2', '3', '4', '5', '6', '7', '8', '9', '10', 'J', 'Q', 'K']\n",
    "random.shuffle(deck)\n",
    "print(deck)"
   ]
  },
  {
   "cell_type": "markdown",
   "id": "d9a7795c",
   "metadata": {},
   "source": [
    "`random.choices(sequence, weights, k)`: Selects `k` distinct samples from a population without replacement."
   ]
  },
  {
   "cell_type": "code",
   "execution_count": 38,
   "id": "3a28a5e7",
   "metadata": {},
   "outputs": [
    {
     "name": "stdout",
     "output_type": "stream",
     "text": [
      "['A', '8', '3', '7']\n"
     ]
    }
   ],
   "source": [
    "deck = ['A', '2', '3', '4', '5', '6', '7', '8', '9', '10', 'J', 'Q', 'K']\n",
    "value = random.sample(deck, 4)\n",
    "print(value)"
   ]
  },
  {
   "cell_type": "markdown",
   "id": "3e03ab50",
   "metadata": {},
   "source": [
    "Other methods"
   ]
  },
  {
   "cell_type": "code",
   "execution_count": 37,
   "id": "dcbebe0b",
   "metadata": {},
   "outputs": [],
   "source": [
    "# random.gauss(mu, sigma) - returns a gaussian distribution with mean mu and standard deviation sigma\n",
    "# random.expovariate(lambd) - returns an exponential distribution with the rate parameter lambd\n",
    "# random.getrandbits(k) - returns a non-negative int with k random bits\n",
    "# random.lognormvariate(mu, sigma) - returns a log normal distribution with the underlying normal distribution N(mu, sigma)\n",
    "# random.paretovariate(alpha) - returns a pareto distribution with parameter alpha\n",
    "# random.triangular(low, high, mode) - returns a triangular distribution with given lower limit, upper limit and mode between them"
   ]
  }
 ],
 "metadata": {
  "kernelspec": {
   "display_name": "Python 3",
   "language": "python",
   "name": "python3"
  },
  "language_info": {
   "codemirror_mode": {
    "name": "ipython",
    "version": 3
   },
   "file_extension": ".py",
   "mimetype": "text/x-python",
   "name": "python",
   "nbconvert_exporter": "python",
   "pygments_lexer": "ipython3",
   "version": "3.13.2"
  }
 },
 "nbformat": 4,
 "nbformat_minor": 5
}
