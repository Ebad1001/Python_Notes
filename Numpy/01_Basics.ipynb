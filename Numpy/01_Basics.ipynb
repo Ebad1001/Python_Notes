{
 "cells": [
  {
   "cell_type": "markdown",
   "id": "597de90c",
   "metadata": {},
   "source": [
    "## About Numpy"
   ]
  },
  {
   "cell_type": "markdown",
   "id": "573d8113",
   "metadata": {},
   "source": [
    "NumPy (Numerical Python) is an open source Python library that’s widely used in science and engineering. The NumPy library contains multidimensional array data structures, such as the homogeneous, N-dimensional ndarray, and a large library of functions that operate efficiently on these data structures."
   ]
  },
  {
   "cell_type": "markdown",
   "id": "13671462",
   "metadata": {},
   "source": [
    "Although Python lists are excellent, general-purpose containers. They can be `heterogeneous`, meaning that they can contain elements of a variety of types.\n",
    "\n",
    "On the other hand, most NumPy arrays have some restrictions. For instance:\n",
    "- They must be `homogeneous`, i.e. All elements of the array must be of the same type of data.\n",
    "- Once created, the total size of the array can’t change.\n",
    "- The shape must be `rectangular`, not jagged; e.g., each row of a two-dimensional array must have the same number of columns.\n",
    "\n",
    "When these conditions are met, NumPy exploits these characteristics to improve speed, reduce memory consumption, and offer a high-level syntax for performing a variety of common processing tasks."
   ]
  },
  {
   "cell_type": "markdown",
   "id": "da159c44",
   "metadata": {},
   "source": [
    "## Installing and Importing"
   ]
  },
  {
   "cell_type": "markdown",
   "id": "cc045db3",
   "metadata": {},
   "source": [
    "To install Numpy as a package:\n",
    "\n",
    "```shell\n",
    ">> pip install numpy\n",
    "```\n",
    "\n",
    "To import numpy:"
   ]
  },
  {
   "cell_type": "code",
   "execution_count": 7,
   "id": "76bba731",
   "metadata": {},
   "outputs": [],
   "source": [
    "import numpy as np"
   ]
  },
  {
   "cell_type": "markdown",
   "id": "4cc6bb86",
   "metadata": {},
   "source": [
    "## Initialising numpy arrays"
   ]
  },
  {
   "cell_type": "markdown",
   "id": "7ce585da",
   "metadata": {},
   "source": [
    "### Initialising arrays from Python sequences"
   ]
  },
  {
   "cell_type": "markdown",
   "id": "e0e706df",
   "metadata": {},
   "source": [
    "One way to initialize an array is using a Python sequence, such as a `list` or a `tuple`.\n",
    "to initialize an array from a sequence, we use `np.array()`.\n",
    "\n",
    "We can also `np.array()` on another array to make a new copy of it."
   ]
  },
  {
   "cell_type": "code",
   "execution_count": null,
   "id": "4d20ed6c",
   "metadata": {},
   "outputs": [
    {
     "name": "stdout",
     "output_type": "stream",
     "text": [
      "<class 'list'> [5, 2, 1, 4]\n",
      "<class 'tuple'> (5, 2, 1, 4)\n",
      "\n",
      "<class 'numpy.ndarray'> [5 2 1 4]\n",
      "<class 'numpy.ndarray'> [5 2 1 4]\n",
      "<class 'numpy.ndarray'> [5 2 1 4]\n",
      "\n",
      "array = [5 2 1 4]\n",
      "dimension            = 1\n",
      "shape                = (4,)\n",
      "data type            = int64\n",
      "no of elements       = 4\n",
      "no of elements       = 4\n",
      "size of each element = 8\n",
      "size of array        = 32\n",
      "size of array        = 32\n"
     ]
    }
   ],
   "source": [
    "myList = [5, 2, 1, 4]\n",
    "print(type(myList), myList)\n",
    "myTuple = (5, 2, 1, 4)\n",
    "print(type(myTuple), myTuple)\n",
    "\n",
    "print()\n",
    "fromTuple = np.array(myTuple)\n",
    "print(type(fromTuple), fromTuple)\n",
    "fromList = np.array(myList)\n",
    "print(type(fromList), fromList)\n",
    "fromArray = np.array(fromList)\n",
    "print(type(fromArray), fromArray)\n",
    "\n",
    "a = fromArray\n",
    "print(f\"\\narray = {a}\")\n",
    "print(f\"dimension            = {a.ndim}\")\n",
    "print(f\"shape                = {a.shape}\")\n",
    "print(f\"data type            = {a.dtype}\")\n",
    "print(f\"no of elements       = {len(a)}\")\n",
    "print(f\"no of elements       = {a.size}\")\n",
    "print(f\"size of each element = {a.itemsize}\")\n",
    "print(f\"size of array        = {a.size * a.itemsize}\")\n",
    "print(f\"size of array        = {a.nbytes}\")"
   ]
  },
  {
   "cell_type": "markdown",
   "id": "4e4264c8",
   "metadata": {},
   "source": [
    "we can also initialize a multi-dimensional array using a `nested list` or `nested tuple`."
   ]
  },
  {
   "cell_type": "code",
   "execution_count": 129,
   "id": "b4477890",
   "metadata": {},
   "outputs": [
    {
     "name": "stdout",
     "output_type": "stream",
     "text": [
      "[[9.1 8.2 7.3]\n",
      " [3.7 2.8 1.9]]\n",
      "dimension = 2\n",
      "shape     = (2, 3)\n",
      "length    = 2\n",
      "size      = 6\n"
     ]
    }
   ],
   "source": [
    "nested = np.array([[9.1, 8.2, 7.3], [3.7, 2.8, 1.9]], dtype=\"float32\")\n",
    "print(nested)\n",
    "print(f\"dimension = {nested.ndim}\")\n",
    "print(f\"shape     = {nested.shape}\")\n",
    "print(f\"length    = {len(nested)}\")\n",
    "print(f\"size      = {nested.size}\")"
   ]
  },
  {
   "cell_type": "markdown",
   "id": "ccfbed19",
   "metadata": {},
   "source": [
    "we can also initialize an array using a `list comprehension`."
   ]
  },
  {
   "cell_type": "code",
   "execution_count": 152,
   "id": "f6909a69",
   "metadata": {},
   "outputs": [
    {
     "name": "stdout",
     "output_type": "stream",
     "text": [
      "[ 2  4  6  8 10 12 14 16 18 20 22 24 26 28 30 32 34 36 38 40]\n"
     ]
    }
   ],
   "source": [
    "evenNums = np.array([i+2 for i in range(0, 40, 2)])\n",
    "print(evenNums)"
   ]
  },
  {
   "cell_type": "markdown",
   "id": "955b836e",
   "metadata": {},
   "source": [
    "### Special constructors in Numpy"
   ]
  },
  {
   "cell_type": "markdown",
   "id": "3a30a424",
   "metadata": {},
   "source": [
    "`np.arange()` creates an array with regularly spaced values within a given interval.\n",
    "It's similar to Python's built-in `range()`, but it returns a NumPy array and supports decimal (float) steps."
   ]
  },
  {
   "cell_type": "code",
   "execution_count": null,
   "id": "450aa643",
   "metadata": {},
   "outputs": [
    {
     "name": "stdout",
     "output_type": "stream",
     "text": [
      "arr = [0 1 2 3 4]\n",
      "arr = [2 3 4 5 6 7 8 9]\n",
      "arr = [2 4 6 8]\n",
      "arr = [0 0 0 0 0]\n",
      "arr = [1. 2. 3. 4. 5.]\n"
     ]
    }
   ],
   "source": [
    "arr = np.arange(5)\n",
    "print(f\"arr = {arr}\")\n",
    "\n",
    "arr = np.arange(2, 10)\n",
    "print(f\"arr = {arr}\")\n",
    "\n",
    "arr = np.arange(2, 10, 2)\n",
    "print(f\"arr = {arr}\") \n",
    "\n",
    "arr = np.arange(0, 1, 0.2, dtype=int)\n",
    "print(f\"arr = {arr}\")\n",
    "\n",
    "arr = np.arange(1, 6, dtype=float)\n",
    "print(f\"arr = {arr}\") "
   ]
  },
  {
   "cell_type": "markdown",
   "id": "613c6f02",
   "metadata": {},
   "source": [
    "`np.linspace()` returns `n` evenly spaced numbers over a specified interval, including both the `start` and `stop` values."
   ]
  },
  {
   "cell_type": "code",
   "execution_count": 18,
   "id": "80bf2b13",
   "metadata": {},
   "outputs": [
    {
     "name": "stdout",
     "output_type": "stream",
     "text": [
      "arr = [0.   0.25 0.5  0.75 1.  ]\n",
      "arr = [0.  0.2 0.4 0.6 0.8]\n",
      "arr = [0.   0.25 0.5  0.75 1.  ], stepsize = 0.25\n",
      "arr = [0 0 0 0 1]\n"
     ]
    }
   ],
   "source": [
    "start, stop, n = 0, 1, 5\n",
    "\n",
    "arr = np.linspace(start, stop, n)\n",
    "print(f\"arr = {arr}\")\n",
    "\n",
    "arr = np.linspace(start, stop, n, endpoint=False)\n",
    "print(f\"arr = {arr}\")\n",
    "\n",
    "arr, step = np.linspace(start, stop, n, retstep=True)\n",
    "print(f\"arr = {arr}, stepsize = {step}\")\n",
    "\n",
    "arr = np.linspace(start, stop, n, dtype=int)\n",
    "print(f\"arr = {arr}\")"
   ]
  },
  {
   "cell_type": "code",
   "execution_count": 138,
   "id": "a0886b1c",
   "metadata": {},
   "outputs": [
    {
     "name": "stdout",
     "output_type": "stream",
     "text": [
      "nd array with all zeros\n",
      "[[0. 0. 0. 0.]\n",
      " [0. 0. 0. 0.]\n",
      " [0. 0. 0. 0.]]\n",
      "Default data type = float64\n",
      "\n",
      "nd array with all zeros\n",
      "[[1. 1. 1. 1.]\n",
      " [1. 1. 1. 1.]\n",
      " [1. 1. 1. 1.]]\n",
      "Default data type = float64\n",
      "\n",
      "nd array with all same value\n",
      "[[7 7 7 7]\n",
      " [7 7 7 7]\n",
      " [7 7 7 7]]\n",
      "Default data type = int64\n",
      "\n",
      "nd array as identity matrix\n",
      "[[1. 0. 0. 0.]\n",
      " [0. 1. 0. 0.]\n",
      " [0. 0. 1. 0.]\n",
      " [0. 0. 0. 1.]]\n",
      "Default data type = float64\n",
      "\n"
     ]
    }
   ],
   "source": [
    "print(\"nd array with all zeros\")\n",
    "m = np.zeros((3, 4))\n",
    "print(m)\n",
    "print(f\"Default data type = {m.dtype}\\n\")\n",
    "\n",
    "print(\"nd array with all zeros\")\n",
    "m = np.ones((3, 4))\n",
    "print(m)\n",
    "print(f\"Default data type = {m.dtype}\\n\")\n",
    "\n",
    "print(\"nd array with all same value\")\n",
    "value = 7\n",
    "m = np.full((3, 4), value)\n",
    "print(m)\n",
    "print(f\"Default data type = {m.dtype}\\n\")\n",
    "\n",
    "print(\"nd array as identity matrix\")\n",
    "m = np.identity(4)\n",
    "print(m)\n",
    "print(f\"Default data type = {m.dtype}\\n\")"
   ]
  },
  {
   "cell_type": "markdown",
   "id": "cca72fca",
   "metadata": {},
   "source": [
    "### Numpy random module"
   ]
  },
  {
   "cell_type": "markdown",
   "id": "37f1889e",
   "metadata": {},
   "source": [
    "`np.random` is NumPy’s random number generation module, used for creating random numbers, arrays, distributions, shuffling, and more."
   ]
  },
  {
   "cell_type": "code",
   "execution_count": 22,
   "id": "c0e9e58c",
   "metadata": {},
   "outputs": [
    {
     "name": "stdout",
     "output_type": "stream",
     "text": [
      "\n",
      "np.random.rand gives random number between 0 & 1.\n",
      "\n",
      "[[0.9328107  0.84374335 0.12136254 0.97571921]\n",
      " [0.61002842 0.56085605 0.63508699 0.33370561]\n",
      " [0.71527564 0.54843585 0.59688532 0.40816962]] \n",
      "\n",
      "[0.38552753 0.46003516 0.38709984] \n",
      "\n",
      "0.2680593296856547 \n",
      "\n",
      "\n",
      "np.random.randint gives random ints in given range.\n",
      "\n",
      "[[3 5 3 3]\n",
      " [1 2 1 3]\n",
      " [3 3 5 2]] \n",
      "\n",
      "[3 1 1] \n",
      "\n",
      "4 \n",
      "\n",
      "\n",
      "np.random.normal gives random numbers from normal distribution.\n",
      "\n",
      "[10.58179436 10.29577018  8.90332759  9.6547822  10.01978683] \n",
      "\n",
      "\n",
      "np.random.choice picks random elements from given array (with or without replacements).\n",
      "\n",
      "[73 23 78 55 50] \n",
      "\n",
      "[1 4 4 4 2] \n",
      "\n"
     ]
    }
   ],
   "source": [
    "print(\"\\nnp.random.rand gives random number between 0 & 1.\\n\")\n",
    "m = np.random.rand(3, 4) # gives a 2d array\n",
    "print(m, \"\\n\")\n",
    "m = np.random.rand(3) # gievs a 1d array\n",
    "print(m, \"\\n\")\n",
    "m = np.random.rand() # gives a scalar\n",
    "print(m, \"\\n\")\n",
    "\n",
    "print(\"\\nnp.random.randint gives random ints in given range.\\n\")\n",
    "m = np.random.randint(1, 7, size=(3, 4)) # gives a 2d array\n",
    "print(m, \"\\n\")\n",
    "m = np.random.randint(1, 7, size=(3)) # gives a 1d array\n",
    "print(m, \"\\n\")\n",
    "m = np.random.randint(1, 7) # gives a scalar\n",
    "print(m, \"\\n\")\n",
    "\n",
    "print(\"\\nnp.random.normal gives random numbers from normal distribution.\\n\")\n",
    "m = np.random.normal(loc=10, scale=1, size=(5))  # Mean=10, Std=2\n",
    "print(m, \"\\n\")\n",
    "\n",
    "print(\"\\nnp.random.choice picks random elements from given array (with or without replacements).\\n\")\n",
    "m = np.random.choice(100, size=(5), replace=False)\n",
    "print(m, \"\\n\")\n",
    "m = np.random.choice([5, 2, 1, 4], size=(5), replace=True)\n",
    "print(m, \"\\n\")"
   ]
  },
  {
   "cell_type": "markdown",
   "id": "dd5c6f61",
   "metadata": {},
   "source": [
    "### Making copy of an array"
   ]
  },
  {
   "cell_type": "markdown",
   "id": "88187fce",
   "metadata": {},
   "source": [
    "Directly assigning one array onto another using `=` operator creates a shallow copy, ie, both variableNames point to the same memory locations"
   ]
  },
  {
   "cell_type": "code",
   "execution_count": 154,
   "id": "d8caef11",
   "metadata": {},
   "outputs": [
    {
     "name": "stdout",
     "output_type": "stream",
     "text": [
      "before\n",
      "a =  [1 2 3 4]\n",
      "s =  [1 2 3 4]\n",
      "after\n",
      "a =  [  1 100 200   4]\n",
      "s =  [  1 100 200   4]\n"
     ]
    }
   ],
   "source": [
    "# shallow copy\n",
    "print(\"before\")\n",
    "\n",
    "a = np.array([1, 2, 3, 4])\n",
    "print(\"a = \", a)\n",
    "\n",
    "s = a\n",
    "print(\"s = \", s)\n",
    "\n",
    "a[1] = 100\n",
    "s[2] = 200\n",
    "\n",
    "print(\"after\")\n",
    "print(\"a = \", a)\n",
    "print(\"s = \", s)"
   ]
  },
  {
   "cell_type": "code",
   "execution_count": 48,
   "id": "19c5d59e",
   "metadata": {},
   "outputs": [
    {
     "name": "stdout",
     "output_type": "stream",
     "text": [
      "before\n",
      "a =  [1 2 3 4]\n",
      "b =  [1 2 3 4]\n",
      "c =  [1 2 3 4]\n",
      "after\n",
      "a =  [100   2   3   4]\n",
      "b =  [  1 200   3   4]\n",
      "c =  [  1   2 300   4]\n"
     ]
    }
   ],
   "source": [
    "# deep copy\n",
    "print(\"before\")\n",
    "a = np.array([1, 2, 3, 4])\n",
    "print(\"a = \", a)\n",
    "\n",
    "b = np.array(a)\n",
    "print(\"b = \", b)\n",
    "c = a.copy()\n",
    "print(\"c = \", c)\n",
    "\n",
    "a[0] = 100\n",
    "b[1] = 200\n",
    "c[2] = 300\n",
    "\n",
    "print(\"after\")\n",
    "print(\"a = \", a)\n",
    "print(\"b = \", b)\n",
    "print(\"c = \", c)"
   ]
  },
  {
   "cell_type": "markdown",
   "id": "9e398635",
   "metadata": {},
   "source": [
    "### Reshaping"
   ]
  },
  {
   "cell_type": "code",
   "execution_count": 153,
   "id": "33355218",
   "metadata": {},
   "outputs": [
    {
     "name": "stdout",
     "output_type": "stream",
     "text": [
      "[[6, 1, 8, 0], [3, 9, 8, 7]]\n",
      "[[6 1 8 0]\n",
      " [3 9 8 7]]\n",
      "shape = (2, 4)\n",
      "dim = 2\n",
      "\n",
      "[[6 1]\n",
      " [8 0]\n",
      " [3 9]\n",
      " [8 7]]\n",
      "shape = (4, 2)\n",
      "dim = 2\n",
      "\n",
      "[[6 1 8 0 3 9 8 7]]\n",
      "shape = (1, 8)\n",
      "dim = 2\n",
      "\n",
      "[6 1 8 0 3 9 8 7]\n",
      "shape = (8,)\n",
      "dim = 1\n",
      "\n",
      "[[[6 1]\n",
      "  [8 0]]\n",
      "\n",
      " [[3 9]\n",
      "  [8 7]]]\n",
      "shape = (2, 2, 2)\n",
      "dim = 3\n",
      "\n"
     ]
    }
   ],
   "source": [
    "a = [[6, 1, 8, 0], [3, 9, 8, 7]]\n",
    "print(a)\n",
    "before = np.array(a)\n",
    "print(before)\n",
    "print(f\"shape = {before.shape}\\ndim = {before.ndim}\\n\")\n",
    "\n",
    "after = before.reshape((4,2)) # it is Not the same as transpose\n",
    "print(after)\n",
    "print(f\"shape = {after.shape}\\ndim = {after.ndim}\\n\")\n",
    "\n",
    "after = before.reshape((1, 8)) # it still is 2D\n",
    "print(after)\n",
    "print(f\"shape = {after.shape}\\ndim = {after.ndim}\\n\")\n",
    "\n",
    "after = before.reshape((8, )) # now it is 1D\n",
    "print(after)\n",
    "print(f\"shape = {after.shape}\\ndim = {after.ndim}\\n\")\n",
    "\n",
    "after = before.reshape((2, 2, 2)) # now it is 3D\n",
    "print(after)\n",
    "print(f\"shape = {after.shape}\\ndim = {after.ndim}\\n\")\n",
    "\n",
    "#after = before.reshape((2, 3))\n",
    "# this causes error as the no of elements dont match"
   ]
  },
  {
   "cell_type": "markdown",
   "id": "7e900543",
   "metadata": {},
   "source": [
    "#### Indexing in arrays"
   ]
  },
  {
   "cell_type": "code",
   "execution_count": null,
   "id": "6135beb4",
   "metadata": {},
   "outputs": [
    {
     "name": "stdout",
     "output_type": "stream",
     "text": [
      "1\n",
      "[[11 12 13 14]\n",
      " [21 22 23 24]\n",
      " [31 32 33 34]] \n",
      "\n",
      "Dimensions of the array:  (3, 4)\n",
      "\n",
      "Using [i][j] notation\n",
      "11  12  13  14  \n",
      "21  22  23  24  \n",
      "31  32  33  34  \n",
      "\n",
      "Using [i, j] notation\n",
      "11  12  13  14  \n",
      "21  22  23  24  \n",
      "31  32  33  34  \n"
     ]
    }
   ],
   "source": [
    "arr = np.array([[11, 12, 13, 14], [21, 22, 23, 24], [31, 32, 33, 34]])\n",
    "print(arr, \"\\n\")\n",
    "\n",
    "print(\"Dimensions of the array: \",arr.shape) # (3, 4)\n",
    "\n",
    "# using indexing to print elements individually\n",
    "\n",
    "print(\"\\nUsing [i][j] notation\")\n",
    "for i in range (arr.shape[0]):\n",
    "    for j in range (arr.shape[1]):\n",
    "        print(arr[i][j], end = \"  \")\n",
    "    print(\"\")\n",
    "\n",
    "print(\"\\nUsing [i, j] notation\")\n",
    "for i in range (arr.shape[0]):\n",
    "    for j in range (arr.shape[1]):\n",
    "        print(arr[i, j], end = \"  \")\n",
    "    print(\"\")"
   ]
  },
  {
   "cell_type": "code",
   "execution_count": null,
   "id": "da361b21",
   "metadata": {},
   "outputs": [
    {
     "name": "stdout",
     "output_type": "stream",
     "text": [
      "[6 1 8 0 3 9 8 8 7]\n",
      "8\n",
      "8 0 3\n",
      "[8 0 3]\n",
      "[8 0 3 9 8 8 7]\n",
      "[6 1 8 0 3]\n",
      "[6 8 3 8]\n",
      "[6 1 8 0 3 9 8 8 7]\n",
      "[6 1 8 0 3 9 8 8 7]\n",
      "[7 8 8 9 3 0 8 1 6]\n"
     ]
    }
   ],
   "source": [
    "a = np.array([6, 1, 8, 0, 3, 9, 8, 8, 7])\n",
    "\n",
    "print(a)\n",
    "print(a[2])\n",
    "print(a[2], a[3], a[4])\n",
    "print(a[2:5])\n",
    "print(a[2:])\n",
    "print(a[:5])\n",
    "print(a[0:7:2])\n",
    "print(a[:])\n",
    "print(a[::])\n",
    "print(a[::-1])"
   ]
  },
  {
   "cell_type": "code",
   "execution_count": 45,
   "id": "80970ea2",
   "metadata": {},
   "outputs": [
    {
     "name": "stdout",
     "output_type": "stream",
     "text": [
      "Dimensions of the array:  (3, 4)\n",
      "arr = \n",
      " [[11 12 13 14]\n",
      " [21 22 23 24]\n",
      " [31 32 33 34]]\n",
      "\n",
      "Printing Specific Rows\n",
      "[11 12 13 14]\n",
      "[31 32 33 34]\n",
      "\n",
      "Printing Specific Cols\n",
      "[11 21 31]\n",
      "[13 23 33]\n",
      "\n",
      "Printing Specific submatrices\n",
      "[[12 13]\n",
      " [22 23]]\n"
     ]
    }
   ],
   "source": [
    "arr = np.array([[11, 12, 13, 14], [21, 22, 23, 24], [31, 32, 33, 34]])\n",
    "print(\"Dimensions of the array: \",arr.shape) # (3, 4)\n",
    "print(\"arr = \\n\", arr)\n",
    "\n",
    "# to get a specific row\n",
    "print(\"\\nPrinting Specific Rows\")\n",
    "print(arr[0])\n",
    "print(arr[2, :])\n",
    "\n",
    "# to get a specific column\n",
    "print(\"\\nPrinting Specific Cols\")\n",
    "print(arr[:, 0])\n",
    "print(arr[:, 2])\n",
    "\n",
    "# to get a specific sub-matrices\n",
    "print(\"\\nPrinting Specific submatrices\")\n",
    "print(arr[0:2, 1:3])"
   ]
  },
  {
   "cell_type": "markdown",
   "id": "46f6e2c5",
   "metadata": {},
   "source": [
    "`Note:` The more you use ranged indexing the more dimensions the ouput array will have"
   ]
  },
  {
   "cell_type": "code",
   "execution_count": 91,
   "id": "20813471",
   "metadata": {},
   "outputs": [
    {
     "name": "stdout",
     "output_type": "stream",
     "text": [
      "[[ 1  2  3  4  5]\n",
      " [ 6  7  8  9 10]\n",
      " [11 12 13 14 15]\n",
      " [16 17 18 19 20]\n",
      " [21 22 23 24 25]\n",
      " [26 27 28 29 30]] \n",
      "\n",
      "[[11 12]\n",
      " [16 17]] \n",
      "\n",
      "[ 2  8 14 20] \n",
      "\n",
      "[[ 4  5]\n",
      " [24 25]\n",
      " [29 30]] \n",
      "\n"
     ]
    }
   ],
   "source": [
    "a = np.array([[1, 2, 3, 4, 5], [6, 7, 8, 9, 10], [11, 12, 13, 14, 15], [16, 17, 18, 19, 20], [21, 22, 23, 24, 25], [26, 27, 28, 29, 30]])\n",
    "print(a, \"\\n\")\n",
    "\n",
    "print(a[2:4, 0:2], \"\\n\")\n",
    "print(a[[0, 1, 2, 3], [1, 2, 3, 4]], \"\\n\")\n",
    "print(a[[0, 4, 5], 3:], \"\\n\")"
   ]
  },
  {
   "cell_type": "markdown",
   "id": "d1e028d8",
   "metadata": {},
   "source": [
    "#### Stacking & Splitting"
   ]
  },
  {
   "cell_type": "code",
   "execution_count": null,
   "id": "e052f9a3",
   "metadata": {},
   "outputs": [
    {
     "name": "stdout",
     "output_type": "stream",
     "text": [
      "[[1 2 3]\n",
      " [4 5 6]\n",
      " [4 5 6]] \n",
      "\n",
      "[array([[1, 2, 3]]), array([[4, 5, 6]]), array([[4, 5, 6]])] \n",
      "\n",
      "\n",
      "[[[1 4 4]\n",
      "  [2 5 5]\n",
      "  [3 6 6]]] \n",
      "\n",
      "[array([[[1],\n",
      "        [2],\n",
      "        [3]]]), array([[[4],\n",
      "        [5],\n",
      "        [6]]]), array([[[4],\n",
      "        [5],\n",
      "        [6]]])] \n",
      "\n",
      "\n",
      "[1 2 3 4 5 6 4 5 6] \n",
      "\n",
      "[array([1, 2, 3]), array([4, 5, 6]), array([4, 5, 6])] \n",
      "\n",
      "\n"
     ]
    }
   ],
   "source": [
    "# 1D arrays\n",
    "v1 = np.array([1, 2, 3])\n",
    "v2 = np.array([4, 5, 6])\n",
    "\n",
    "st = np.vstack([v1, v2, v2])\n",
    "print(st, \"\\n\")\n",
    "sp = np.vsplit(st, 3)\n",
    "print(sp, \"\\n\\n\")\n",
    "\n",
    "st = np.dstack([v1, v2, v2])\n",
    "print(st, \"\\n\")\n",
    "sp = np.dsplit(st, 3)\n",
    "print(sp, \"\\n\\n\")\n",
    "\n",
    "st = np.hstack([v1, v2, v2])\n",
    "print(st, \"\\n\")\n",
    "sp = np.hsplit(st, 3)\n",
    "print(sp, \"\\n\\n\")"
   ]
  },
  {
   "cell_type": "code",
   "execution_count": 90,
   "id": "d7be55d9",
   "metadata": {},
   "outputs": [
    {
     "name": "stdout",
     "output_type": "stream",
     "text": [
      "[[0. 0. 0.]\n",
      " [0. 0. 0.]\n",
      " [1. 1. 1.]\n",
      " [1. 1. 1.]\n",
      " [1. 1. 1.]\n",
      " [1. 1. 1.]] \n",
      "\n",
      "[array([[0., 0., 0.],\n",
      "       [0., 0., 0.]]), array([[1., 1., 1.],\n",
      "       [1., 1., 1.]]), array([[1., 1., 1.],\n",
      "       [1., 1., 1.]])] \n",
      "\n",
      "\n",
      "[[[0. 1. 1.]\n",
      "  [0. 1. 1.]\n",
      "  [0. 1. 1.]]\n",
      "\n",
      " [[0. 1. 1.]\n",
      "  [0. 1. 1.]\n",
      "  [0. 1. 1.]]] \n",
      "\n",
      "[array([[[0.],\n",
      "        [0.],\n",
      "        [0.]],\n",
      "\n",
      "       [[0.],\n",
      "        [0.],\n",
      "        [0.]]]), array([[[1.],\n",
      "        [1.],\n",
      "        [1.]],\n",
      "\n",
      "       [[1.],\n",
      "        [1.],\n",
      "        [1.]]]), array([[[1.],\n",
      "        [1.],\n",
      "        [1.]],\n",
      "\n",
      "       [[1.],\n",
      "        [1.],\n",
      "        [1.]]])] \n",
      "\n",
      "\n",
      "[[0. 0. 0. 1. 1. 1. 1. 1. 1.]\n",
      " [0. 0. 0. 1. 1. 1. 1. 1. 1.]] \n",
      "\n",
      "[array([[0., 0., 0.],\n",
      "       [0., 0., 0.]]), array([[1., 1., 1.],\n",
      "       [1., 1., 1.]]), array([[1., 1., 1.],\n",
      "       [1., 1., 1.]])] \n",
      "\n",
      "\n"
     ]
    }
   ],
   "source": [
    "# 2D arrays\n",
    "v1 = np.zeros((2, 3))\n",
    "v2 = np.ones((2, 3))\n",
    "\n",
    "st = np.vstack([v1, v2, v2])\n",
    "print(st, \"\\n\")\n",
    "sp = np.vsplit(st, 3)\n",
    "print(sp, \"\\n\\n\")\n",
    "\n",
    "st = np.dstack([v1, v2, v2])\n",
    "print(st, \"\\n\")\n",
    "sp = np.dsplit(st, 3)\n",
    "print(sp, \"\\n\\n\")\n",
    "\n",
    "st = np.hstack([v1, v2, v2])\n",
    "print(st, \"\\n\")\n",
    "sp = np.hsplit(st, 3)\n",
    "print(sp, \"\\n\\n\")"
   ]
  },
  {
   "cell_type": "markdown",
   "id": "97d8bf6d",
   "metadata": {},
   "source": [
    "### Doing mathematical operations in NumPy Arrays"
   ]
  },
  {
   "cell_type": "markdown",
   "id": "61ada393",
   "metadata": {},
   "source": [
    "#### Elementwise Operations"
   ]
  },
  {
   "cell_type": "code",
   "execution_count": 35,
   "id": "97c08ed5",
   "metadata": {},
   "outputs": [
    {
     "name": "stdout",
     "output_type": "stream",
     "text": [
      "[1 2 3 4]\n",
      "[1 2 3 4] + 2 =  [3 4 5 6]\n",
      "[1 2 3 4] - 2 =  [-1  0  1  2]\n",
      "[1 2 3 4] * 2 =  [2 4 6 8]\n",
      "[1 2 3 4] / 2 =  [0.5 1.  1.5 2. ]\n",
      "[1 2 3 4] % 2 =  [1 0 1 0]\n",
      "[1 2 3 4] // 2 =  [0 1 1 2]\n",
      "[1 2 3 4] ** 2 =  [ 1  4  9 16]\n"
     ]
    }
   ],
   "source": [
    "# array with scalar\n",
    "a = np.array([1, 2, 3, 4])\n",
    "print(a)\n",
    "print(a, \"+ 2 = \", a + 2)\n",
    "print(a, \"- 2 = \", a - 2)\n",
    "print(a, \"* 2 = \", a * 2)\n",
    "print(a, \"/ 2 = \", a / 2)\n",
    "print(a, \"% 2 = \", a % 2)\n",
    "print(a, \"// 2 = \", a // 2)\n",
    "print(a, \"** 2 = \", a ** 2)"
   ]
  },
  {
   "cell_type": "code",
   "execution_count": 37,
   "id": "77e84a73",
   "metadata": {},
   "outputs": [
    {
     "name": "stdout",
     "output_type": "stream",
     "text": [
      "[1 2 3 4]  +  [1 2 2 1]  =  [2 4 5 5]\n",
      "[1 2 3 4]  -  [1 2 2 1]  =  [0 0 1 3]\n",
      "[1 2 3 4]  *  [1 2 2 1]  =  [1 4 6 4]\n",
      "[1 2 3 4]  /  [1 2 2 1]  =  [1.  1.  1.5 4. ]\n"
     ]
    }
   ],
   "source": [
    "# array with array\n",
    "a = np.array([1, 2, 3, 4])\n",
    "b = np.array([1, 2, 2, 1])\n",
    "print(a, \" + \", b, \" = \", a + b)\n",
    "print(a, \" - \", b, \" = \", a - b)\n",
    "print(a, \" * \", b, \" = \", a * b)\n",
    "print(a, \" / \", b, \" = \", a / b)"
   ]
  },
  {
   "cell_type": "markdown",
   "id": "5c83e24d",
   "metadata": {},
   "source": [
    "#### Boolean Operations"
   ]
  },
  {
   "cell_type": "code",
   "execution_count": 50,
   "id": "09087bb2",
   "metadata": {},
   "outputs": [
    {
     "name": "stdout",
     "output_type": "stream",
     "text": [
      "[[6 1 8]\n",
      " [3 9 8]\n",
      " [5 2 1]] \n",
      "\n",
      "[[False  True False]\n",
      " [ True False False]\n",
      " [False  True  True]]\n"
     ]
    }
   ],
   "source": [
    "a = np.array([[6, 1, 8], [3, 9, 8], [5, 2, 1]])\n",
    "print(a, \"\\n\")\n",
    "\n",
    "print(a < 5)"
   ]
  },
  {
   "cell_type": "code",
   "execution_count": 92,
   "id": "adf17035",
   "metadata": {},
   "outputs": [
    {
     "name": "stdout",
     "output_type": "stream",
     "text": [
      "[[6 1 8]\n",
      " [3 9 8]\n",
      " [5 2 1]] \n",
      "\n",
      "[1 3 2 1]\n",
      "\n",
      "[]\n"
     ]
    }
   ],
   "source": [
    "a = np.array([[6, 1, 8], [3, 9, 8], [5, 2, 1]])\n",
    "print(a, \"\\n\")\n",
    "print(a[a < 5]) # print all elements of `a` which are less than 5\n",
    "print()\n",
    "print(a[a > 10]) # print all elements of `a` which are greater than or equal to 5"
   ]
  },
  {
   "cell_type": "code",
   "execution_count": 41,
   "id": "9b19ecf3",
   "metadata": {},
   "outputs": [
    {
     "name": "stdout",
     "output_type": "stream",
     "text": [
      "[[6 1 8]\n",
      " [3 9 8]\n",
      " [5 2 1]] \n",
      "\n",
      "True \n",
      "\n",
      "[False  True  True] \n",
      "\n",
      "[ True  True False] \n",
      "\n"
     ]
    }
   ],
   "source": [
    "print(a, \"\\n\")\n",
    "\n",
    "# check for whole nd array\n",
    "print(np.any(a >= 8), \"\\n\")\n",
    "\n",
    "# check in particular axis\n",
    "print(np.any(a >= 8, axis = 0), \"\\n\") # 0 means column\n",
    "print(np.any(a >= 8, axis = 1), \"\\n\") # 1 means row"
   ]
  },
  {
   "cell_type": "code",
   "execution_count": 45,
   "id": "20264f3f",
   "metadata": {},
   "outputs": [
    {
     "name": "stdout",
     "output_type": "stream",
     "text": [
      "[[6 1 8]\n",
      " [3 9 8]\n",
      " [5 2 1]] \n",
      "\n",
      "False \n",
      "\n",
      "[ True False False] \n",
      "\n",
      "[False  True False] \n",
      "\n"
     ]
    }
   ],
   "source": [
    "print(a, \"\\n\")\n",
    "\n",
    "# check for whole nd array\n",
    "print(np.all(a >= 3), \"\\n\")\n",
    "\n",
    "# check in particular axis\n",
    "print(np.all(a >= 3, axis = 0), \"\\n\") # 0 means column\n",
    "print(np.all(a >= 3, axis = 1), \"\\n\") # 1 means row"
   ]
  },
  {
   "cell_type": "code",
   "execution_count": null,
   "id": "25cdf934",
   "metadata": {},
   "outputs": [
    {
     "name": "stdout",
     "output_type": "stream",
     "text": [
      "(array([1, 3]),)\n",
      "[10 20 30  4  5]\n",
      "[0 0 2 0 4]\n"
     ]
    }
   ],
   "source": [
    "a = np.array([1, 2, 3, 4, 5])\n",
    "indices = np.where(a % 2 == 0)\n",
    "print(indices)\n",
    "\n",
    "a = np.array([ 1,  2,  3,  4,  5])\n",
    "b = np.array([10, 20, 30, 40, 50])\n",
    "result = np.where(a > 3, a, b) # WHERE (a > 3), pick elements from a ELSE, pick elements from b.\n",
    "print(result)\n",
    "\n",
    "a = np.array([0, -1, 2, -3, 4])\n",
    "cleaned = np.where(a > 0, a, 0) # WHERE (a > 0), pick elements from a ELSE, pick 0.\n",
    "print(cleaned)"
   ]
  },
  {
   "cell_type": "markdown",
   "id": "bc8250cd",
   "metadata": {},
   "source": [
    "#### Matrix and Linear Algebra"
   ]
  },
  {
   "cell_type": "code",
   "execution_count": null,
   "id": "22b9fa06",
   "metadata": {},
   "outputs": [],
   "source": [
    "a = np.array([[2, 3], [3, 4]])\n",
    "print(a, \"\\n\")\n",
    "\n",
    "b = np.array([[1, 2, 3], [2, 3, 1]])\n",
    "print(b, \"\\n\")\n",
    "\n",
    "print(np.matmul(a, b), \"\\n\")\n",
    "# print(np.matmul(b, a), \"\\n\") # this will give an error as they are not compatible for matrix multiplication\n",
    "\n",
    "print(\"Determinant of a = \", round(np.linalg.det(a), 2), \"\\n\")\n",
    "\n",
    "print(\"Inverse of a = \")\n",
    "print(np.linalg.inv(a), \"\\n\")"
   ]
  },
  {
   "cell_type": "markdown",
   "id": "6ba2fb05",
   "metadata": {},
   "source": [
    "#### Statistical Operation"
   ]
  },
  {
   "cell_type": "code",
   "execution_count": 47,
   "id": "217c4d11",
   "metadata": {},
   "outputs": [
    {
     "name": "stdout",
     "output_type": "stream",
     "text": [
      "[[6 1 8 0]\n",
      " [3 9 8 7]] \n",
      "\n",
      "0\n",
      "[3 1 8 0]\n",
      "[0 3] \n",
      "\n",
      "9\n",
      "[6 9 8 7]\n",
      "[8 9] \n",
      "\n",
      "42\n",
      "[ 9 10 16  7]\n",
      "[15 27] \n",
      "\n"
     ]
    }
   ],
   "source": [
    "stats = np.array([[6, 1, 8, 0], [3, 9, 8, 7]])\n",
    "print(stats, \"\\n\")\n",
    "\n",
    "print(np.min(stats))\n",
    "print(np.min(stats, axis = 0))\n",
    "print(np.min(stats, axis = 1), \"\\n\")\n",
    "\n",
    "print(np.max(stats))\n",
    "print(np.max(stats, axis = 0))\n",
    "print(np.max(stats, axis = 1), \"\\n\")\n",
    "\n",
    "print(np.sum(stats))\n",
    "print(np.sum(stats, axis = 0))\n",
    "print(np.sum(stats, axis = 1), \"\\n\")\n"
   ]
  }
 ],
 "metadata": {
  "kernelspec": {
   "display_name": "Python 3",
   "language": "python",
   "name": "python3"
  },
  "language_info": {
   "codemirror_mode": {
    "name": "ipython",
    "version": 3
   },
   "file_extension": ".py",
   "mimetype": "text/x-python",
   "name": "python",
   "nbconvert_exporter": "python",
   "pygments_lexer": "ipython3",
   "version": "3.13.2"
  }
 },
 "nbformat": 4,
 "nbformat_minor": 5
}
