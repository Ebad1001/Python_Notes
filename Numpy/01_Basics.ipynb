{
 "cells": [
  {
   "cell_type": "markdown",
   "id": "597de90c",
   "metadata": {},
   "source": [
    "## About Numpy"
   ]
  },
  {
   "cell_type": "markdown",
   "id": "573d8113",
   "metadata": {},
   "source": [
    "NumPy (Numerical Python) is an open source Python library that’s widely used in science and engineering. The NumPy library contains multidimensional array data structures, such as the homogeneous, N-dimensional ndarray, and a large library of functions that operate efficiently on these data structures."
   ]
  },
  {
   "cell_type": "markdown",
   "id": "378daf0a",
   "metadata": {},
   "source": [
    "## Why Numpy?"
   ]
  },
  {
   "cell_type": "markdown",
   "id": "13671462",
   "metadata": {},
   "source": [
    "Although Python lists are excellent, general-purpose containers. They can be `heterogeneous`, meaning that they can contain elements of a variety of types.\n",
    "\n",
    "On the other hand, most NumPy arrays have some restrictions. For instance:\n",
    "- They must be `homogeneous`, i.e. All elements of the array must be of the same type of data.\n",
    "- Once created, the total size of the array can’t change.\n",
    "- The shape must be `rectangular`, not jagged; e.g., each row of a two-dimensional array must have the same number of columns.\n",
    "\n",
    "When these conditions are met, NumPy exploits these characteristics to improve speed, reduce memory consumption, and offer a high-level syntax for performing a variety of common processing tasks."
   ]
  },
  {
   "cell_type": "markdown",
   "id": "da159c44",
   "metadata": {},
   "source": [
    "## Installing and Importing"
   ]
  },
  {
   "cell_type": "markdown",
   "id": "cc045db3",
   "metadata": {},
   "source": [
    "To install Numpy as a package:\n",
    "\n",
    "```shell\n",
    "pip install numpy\n",
    "```\n",
    "\n",
    "To import numpy:"
   ]
  },
  {
   "cell_type": "code",
   "execution_count": 1,
   "id": "76bba731",
   "metadata": {},
   "outputs": [],
   "source": [
    "import numpy as np"
   ]
  },
  {
   "cell_type": "markdown",
   "id": "a9402ae7",
   "metadata": {},
   "source": [
    "## Operations"
   ]
  },
  {
   "cell_type": "markdown",
   "id": "4cc6bb86",
   "metadata": {},
   "source": [
    "#### Initialising a new Array"
   ]
  },
  {
   "cell_type": "markdown",
   "id": "e0e706df",
   "metadata": {},
   "source": [
    "One way to initialize an array is using a Python sequence, such as a list.\n",
    "to initialize an array from a list, we use np.array()"
   ]
  },
  {
   "cell_type": "code",
   "execution_count": 10,
   "id": "4d20ed6c",
   "metadata": {},
   "outputs": [
    {
     "name": "stdout",
     "output_type": "stream",
     "text": [
      "<class 'list'>\n",
      "<class 'numpy.ndarray'>\n",
      "array = [1 2 3]\n",
      "\n",
      "dimensions =  1\n",
      "shape =  (3,)\n",
      "data type =  int8\n",
      "no of elements:  3\n",
      "no of elements:  3\n",
      "size of each elements:  1\n",
      "size of array:  3\n",
      "size of array:  3\n"
     ]
    }
   ],
   "source": [
    "myList = [1, 2, 3]\n",
    "print(type(myList))\n",
    "a = np.array(myList, dtype='int8')\n",
    "print(type(a))\n",
    "\n",
    "# prints the numpy array\n",
    "print(f\"array = {a}\\n\")\n",
    "\n",
    "# to get the dimension of the array\n",
    "print(\"dimensions = \", a.ndim)\n",
    "\n",
    "# to get the order of the array\n",
    "print(\"shape = \", a.shape)\n",
    "\n",
    "# to get the data type of the array\n",
    "print(\"data type = \", a.dtype)\n",
    "\n",
    "# to get the no of elements in the array\n",
    "print(\"no of elements: \", len(a))\n",
    "print(\"no of elements: \", a.size)\n",
    "\n",
    "# to get the memory size of each element in bytes\n",
    "print(\"size of each elements: \", a.itemsize)\n",
    "\n",
    "# to get the memory size of the array in bytes\n",
    "print(\"size of array: \", a.size * a.itemsize)\n",
    "print(\"size of array: \", a.nbytes)\n"
   ]
  },
  {
   "cell_type": "code",
   "execution_count": null,
   "id": "b4477890",
   "metadata": {},
   "outputs": [
    {
     "name": "stdout",
     "output_type": "stream",
     "text": [
      "[[9.1 8.2 7.3]\n",
      " [3.7 2.8 1.9]]\n",
      "\n",
      "\n",
      "dimensions =  2\n",
      "shape =  (2, 3)\n",
      "data type =  float32\n"
     ]
    }
   ],
   "source": [
    "# we can also initialize an multi-dimensional array\n",
    "b = np.array([[9.1, 8.2, 7.3], [3.7, 2.8, 1.9]], dtype=\"float32\")\n",
    "print(f\"{b}\\n\")\n",
    "\n",
    "# to get the dimension of the array\n",
    "print(\"\\ndimensions = \", b.ndim)\n",
    "\n",
    "# to get the order of the array\n",
    "print(\"shape = \", b.shape)\n",
    "\n",
    "# to get the data type of the array\n",
    "print(\"data type = \", b.dtype)"
   ]
  },
  {
   "cell_type": "markdown",
   "id": "ccfbed19",
   "metadata": {},
   "source": [
    "Another way to initialize an array is to use list comprehension along with np.array()"
   ]
  },
  {
   "cell_type": "code",
   "execution_count": 16,
   "id": "f6909a69",
   "metadata": {},
   "outputs": [
    {
     "name": "stdout",
     "output_type": "stream",
     "text": [
      "[  2   4   6   8  10  12  14  16  18  20  22  24  26  28  30  32  34  36\n",
      "  38  40  42  44  46  48  50  52  54  56  58  60  62  64  66  68  70  72\n",
      "  74  76  78  80  82  84  86  88  90  92  94  96  98 100]\n"
     ]
    }
   ],
   "source": [
    "c = np.array([2*i+2 for i in range(50)])\n",
    "print(c)"
   ]
  },
  {
   "cell_type": "markdown",
   "id": "571c09c0",
   "metadata": {},
   "source": [
    "#### Reshaping"
   ]
  },
  {
   "cell_type": "code",
   "execution_count": 23,
   "id": "0cf1a778",
   "metadata": {},
   "outputs": [
    {
     "name": "stdout",
     "output_type": "stream",
     "text": [
      "[[6 1 8 0]\n",
      " [3 9 8 7]]\n",
      "shape = (2, 4)\n",
      "dim = 2\n",
      "\n",
      "[[6 1]\n",
      " [8 0]\n",
      " [3 9]\n",
      " [8 7]]\n",
      "shape = (4, 2)\n",
      "dim = 2\n",
      "\n",
      "[[6 1 8 0 3 9 8 7]]\n",
      "shape = (1, 8)\n",
      "dim = 2\n",
      "\n",
      "[6 1 8 0 3 9 8 7]\n",
      "shape = (8,)\n",
      "dim = 1\n",
      "\n",
      "[[[6 1]\n",
      "  [8 0]]\n",
      "\n",
      " [[3 9]\n",
      "  [8 7]]]\n",
      "shape = (2, 2, 2)\n",
      "dim = 3\n",
      "\n"
     ]
    }
   ],
   "source": [
    "before = np.array([[6, 1, 8, 0], [3, 9, 8, 7]])\n",
    "print(before)\n",
    "print(f\"shape = {before.shape}\\ndim = {before.ndim}\\n\")\n",
    "\n",
    "after = before.reshape((4,2)) # it is Not the same as transpose\n",
    "print(after)\n",
    "print(f\"shape = {after.shape}\\ndim = {after.ndim}\\n\")\n",
    "\n",
    "after = before.reshape((1, 8)) # it still is 2D\n",
    "print(after)\n",
    "print(f\"shape = {after.shape}\\ndim = {after.ndim}\\n\")\n",
    "\n",
    "after = before.reshape((8)) # now it is 1D\n",
    "print(after)\n",
    "print(f\"shape = {after.shape}\\ndim = {after.ndim}\\n\")\n",
    "\n",
    "after = before.reshape((2, 2, 2)) # now it is 3D\n",
    "print(after)\n",
    "print(f\"shape = {after.shape}\\ndim = {after.ndim}\\n\")\n",
    "\n",
    "#after = before.reshape((2, 3))\n",
    "# this causes error as the no of elements dont match"
   ]
  },
  {
   "cell_type": "markdown",
   "id": "18af1f2f",
   "metadata": {},
   "source": [
    "#### Intialising special arrays"
   ]
  },
  {
   "cell_type": "code",
   "execution_count": 30,
   "id": "518f343c",
   "metadata": {},
   "outputs": [
    {
     "name": "stdout",
     "output_type": "stream",
     "text": [
      "nd array with all zeros\n",
      "[[0. 0. 0. 0.]\n",
      " [0. 0. 0. 0.]\n",
      " [0. 0. 0. 0.]]\n",
      "Default data type = float64\n",
      "\n",
      "nd array with all zeros\n",
      "[[1. 1. 1. 1.]\n",
      " [1. 1. 1. 1.]\n",
      " [1. 1. 1. 1.]]\n",
      "Default data type = float64\n",
      "\n",
      "nd array with all same value\n",
      "[[7 7 7 7]\n",
      " [7 7 7 7]\n",
      " [7 7 7 7]]\n",
      "Default data type = int64\n",
      "\n",
      "nd array as identity matrix\n",
      "[[1. 0. 0. 0.]\n",
      " [0. 1. 0. 0.]\n",
      " [0. 0. 1. 0.]\n",
      " [0. 0. 0. 1.]]\n",
      "Default data type = float64\n",
      "\n"
     ]
    }
   ],
   "source": [
    "print(\"nd array with all zeros\")\n",
    "m = np.zeros((3, 4))\n",
    "print(m)\n",
    "print(f\"Default data type = {m.dtype}\\n\")\n",
    "\n",
    "print(\"nd array with all zeros\")\n",
    "m = np.ones((3, 4))\n",
    "print(m)\n",
    "print(f\"Default data type = {m.dtype}\\n\")\n",
    "\n",
    "print(\"nd array with all same value\")\n",
    "value = 7\n",
    "m = np.full((3, 4), value)\n",
    "print(m)\n",
    "print(f\"Default data type = {m.dtype}\\n\")\n",
    "\n",
    "print(\"nd array as identity matrix\")\n",
    "m = np.identity(4)\n",
    "print(m)\n",
    "print(f\"Default data type = {m.dtype}\\n\")"
   ]
  },
  {
   "cell_type": "code",
   "execution_count": 32,
   "id": "371bb46d",
   "metadata": {},
   "outputs": [
    {
     "name": "stdout",
     "output_type": "stream",
     "text": [
      "nd array with\n",
      "[[0.71991849 0.46819962 0.47026018 0.80041042]\n",
      " [0.64789412 0.21594941 0.7028744  0.07073741]\n",
      " [0.86243034 0.02341757 0.36481851 0.59544851]]\n",
      "Default data type = float64\n",
      "\n",
      "nd array with\n",
      "[[6 2 4 2]\n",
      " [5 2 4 1]\n",
      " [3 1 1 2]]\n",
      "Default data type = int32\n",
      "\n"
     ]
    }
   ],
   "source": [
    "print(\"nd array with\")\n",
    "m = np.random.rand(3, 4)\n",
    "print(m)\n",
    "print(f\"Default data type = {m.dtype}\\n\")\n",
    "\n",
    "print(\"nd array with\")\n",
    "m = np.random.randint(1, 7, size=(3, 4))\n",
    "print(m)\n",
    "print(f\"Default data type = {m.dtype}\\n\")"
   ]
  },
  {
   "cell_type": "markdown",
   "id": "dd5c6f61",
   "metadata": {},
   "source": [
    "#### Making copy of an array"
   ]
  },
  {
   "cell_type": "code",
   "execution_count": null,
   "id": "d8caef11",
   "metadata": {},
   "outputs": [
    {
     "name": "stdout",
     "output_type": "stream",
     "text": [
      "before\n",
      "a =  [1 2 3 4]\n",
      "s =  [1 2 3 4]\n",
      "after\n",
      "a =  [  1 100 200   4]\n",
      "s =  [  1 100 200   4]\n"
     ]
    }
   ],
   "source": [
    "# shallow copy\n",
    "print(\"before\")\n",
    "\n",
    "a = np.array([1, 2, 3, 4])\n",
    "print(\"a = \", a)\n",
    "\n",
    "s = a\n",
    "print(\"s = \", s)\n",
    "\n",
    "a[1] = 100\n",
    "s[2] = 200\n",
    "\n",
    "print(\"after\")\n",
    "print(\"a = \", a)\n",
    "print(\"s = \", s)"
   ]
  },
  {
   "cell_type": "code",
   "execution_count": 48,
   "id": "19c5d59e",
   "metadata": {},
   "outputs": [
    {
     "name": "stdout",
     "output_type": "stream",
     "text": [
      "before\n",
      "a =  [1 2 3 4]\n",
      "b =  [1 2 3 4]\n",
      "c =  [1 2 3 4]\n",
      "after\n",
      "a =  [100   2   3   4]\n",
      "b =  [  1 200   3   4]\n",
      "c =  [  1   2 300   4]\n"
     ]
    }
   ],
   "source": [
    "# deep copy\n",
    "print(\"before\")\n",
    "a = np.array([1, 2, 3, 4])\n",
    "print(\"a = \", a)\n",
    "\n",
    "b = np.array(a)\n",
    "print(\"b = \", b)\n",
    "c = a.copy()\n",
    "print(\"c = \", c)\n",
    "\n",
    "a[0] = 100\n",
    "b[1] = 200\n",
    "c[2] = 300\n",
    "\n",
    "print(\"after\")\n",
    "print(\"a = \", a)\n",
    "print(\"b = \", b)\n",
    "print(\"c = \", c)"
   ]
  },
  {
   "cell_type": "markdown",
   "id": "7e900543",
   "metadata": {},
   "source": [
    "#### Indexing in arrays"
   ]
  },
  {
   "cell_type": "code",
   "execution_count": null,
   "id": "6135beb4",
   "metadata": {},
   "outputs": [
    {
     "name": "stdout",
     "output_type": "stream",
     "text": [
      "1\n",
      "[[11 12 13 14]\n",
      " [21 22 23 24]\n",
      " [31 32 33 34]] \n",
      "\n",
      "Dimensions of the array:  (3, 4)\n",
      "\n",
      "Using [i][j] notation\n",
      "11  12  13  14  \n",
      "21  22  23  24  \n",
      "31  32  33  34  \n",
      "\n",
      "Using [i, j] notation\n",
      "11  12  13  14  \n",
      "21  22  23  24  \n",
      "31  32  33  34  \n"
     ]
    }
   ],
   "source": [
    "arr = np.array([[11, 12, 13, 14], [21, 22, 23, 24], [31, 32, 33, 34]])\n",
    "print(arr, \"\\n\")\n",
    "\n",
    "print(\"Dimensions of the array: \",arr.shape) # (3, 4)\n",
    "\n",
    "# using indexing to print elements individually\n",
    "\n",
    "print(\"\\nUsing [i][j] notation\")\n",
    "for i in range (arr.shape[0]):\n",
    "    for j in range (arr.shape[1]):\n",
    "        print(arr[i][j], end = \"  \")\n",
    "    print(\"\")\n",
    "\n",
    "print(\"\\nUsing [i, j] notation\")\n",
    "for i in range (arr.shape[0]):\n",
    "    for j in range (arr.shape[1]):\n",
    "        print(arr[i, j], end = \"  \")\n",
    "    print(\"\")"
   ]
  },
  {
   "cell_type": "code",
   "execution_count": 43,
   "id": "da361b21",
   "metadata": {},
   "outputs": [
    {
     "name": "stdout",
     "output_type": "stream",
     "text": [
      "[6 1 8 0 3 9 8 8 7]\n",
      "8\n",
      "8 0 3\n",
      "[8 0 3]\n",
      "[8 0 3 9 8 8 7]\n",
      "[6 1 8 0 3]\n",
      "[6 8 3 8]\n",
      "[7 8 8 9 3 0 8 1 6]\n"
     ]
    }
   ],
   "source": [
    "a = np.array([6, 1, 8, 0, 3, 9, 8, 8, 7])\n",
    "\n",
    "print(a)\n",
    "print(a[2])\n",
    "print(a[2], a[3], a[4])\n",
    "print(a[2:5])\n",
    "print(a[2:])\n",
    "print(a[:5])\n",
    "print(a[0:7:2])\n",
    "print(a[::-1])\n"
   ]
  },
  {
   "cell_type": "code",
   "execution_count": 45,
   "id": "80970ea2",
   "metadata": {},
   "outputs": [
    {
     "name": "stdout",
     "output_type": "stream",
     "text": [
      "Dimensions of the array:  (3, 4)\n",
      "arr = \n",
      " [[11 12 13 14]\n",
      " [21 22 23 24]\n",
      " [31 32 33 34]]\n",
      "\n",
      "Printing Specific Rows\n",
      "[11 12 13 14]\n",
      "[31 32 33 34]\n",
      "\n",
      "Printing Specific Cols\n",
      "[11 21 31]\n",
      "[13 23 33]\n",
      "\n",
      "Printing Specific submatrices\n",
      "[[12 13]\n",
      " [22 23]]\n"
     ]
    }
   ],
   "source": [
    "arr = np.array([[11, 12, 13, 14], [21, 22, 23, 24], [31, 32, 33, 34]])\n",
    "print(\"Dimensions of the array: \",arr.shape) # (3, 4)\n",
    "print(\"arr = \\n\", arr)\n",
    "\n",
    "# to get a specific row\n",
    "print(\"\\nPrinting Specific Rows\")\n",
    "print(arr[0])\n",
    "print(arr[2, :])\n",
    "\n",
    "# to get a specific column\n",
    "print(\"\\nPrinting Specific Cols\")\n",
    "print(arr[:, 0])\n",
    "print(arr[:, 2])\n",
    "\n",
    "# to get a specific sub-matrices\n",
    "print(\"\\nPrinting Specific submatrices\")\n",
    "print(arr[0:2, 1:3])"
   ]
  },
  {
   "cell_type": "markdown",
   "id": "46f6e2c5",
   "metadata": {},
   "source": [
    "`Note:` The more you use ranged indexing the more dimensions the ouput array will have"
   ]
  },
  {
   "cell_type": "markdown",
   "id": "d1e028d8",
   "metadata": {},
   "source": [
    "#### Stacking"
   ]
  },
  {
   "cell_type": "code",
   "execution_count": 46,
   "id": "e052f9a3",
   "metadata": {},
   "outputs": [
    {
     "name": "stdout",
     "output_type": "stream",
     "text": [
      "[[1 2 3]\n",
      " [4 5 6]\n",
      " [4 5 6]]\n",
      "\n",
      "[[1 2 3]\n",
      " [4 5 6]\n",
      " [4 5 6]]\n",
      "\n",
      "[1 2 3 4 5 6 4 5 6]\n",
      "\n",
      "[[1 4 4]\n",
      " [2 5 5]\n",
      " [3 6 6]]\n",
      "\n"
     ]
    },
    {
     "name": "stderr",
     "output_type": "stream",
     "text": [
      "C:\\Users\\dell\\AppData\\Local\\Temp\\ipykernel_13416\\3801226394.py:5: DeprecationWarning: `row_stack` alias is deprecated. Use `np.vstack` directly.\n",
      "  print(np.row_stack([v1, v2, v2])) # `row_stack` alias is deprecated. Use `np.vstack` directly.\n"
     ]
    }
   ],
   "source": [
    "# 1D arrays\n",
    "v1 = np.array([1, 2, 3])\n",
    "v2 = np.array([4, 5, 6])\n",
    "\n",
    "print(np.row_stack([v1, v2, v2])) # `row_stack` alias is deprecated. Use `np.vstack` directly.\n",
    "print()\n",
    "print(np.vstack([v1, v2, v2]))\n",
    "print()\n",
    "print(np.hstack([v1, v2, v2]))\n",
    "print()\n",
    "print(np.column_stack([v1, v2, v2]))\n",
    "print()"
   ]
  },
  {
   "cell_type": "code",
   "execution_count": 47,
   "id": "d7be55d9",
   "metadata": {},
   "outputs": [
    {
     "name": "stdout",
     "output_type": "stream",
     "text": [
      "[[0. 0. 0.]\n",
      " [0. 0. 0.]\n",
      " [1. 1. 1.]\n",
      " [1. 1. 1.]]\n",
      "\n",
      "[[0. 0. 0. 1. 1. 1.]\n",
      " [0. 0. 0. 1. 1. 1.]]\n",
      "\n",
      "[[0. 0. 0. 1. 1. 1.]\n",
      " [0. 0. 0. 1. 1. 1.]]\n",
      "\n"
     ]
    }
   ],
   "source": [
    "# 2D arrays\n",
    "v1 = np.zeros((2, 3))\n",
    "v2 = np.ones((2, 3))\n",
    "\n",
    "# print(np.row_stack([v1, v2, v2])) # `row_stack` alias is deprecated. Use `np.vstack` directly.\n",
    "print(np.vstack([v1, v2]))\n",
    "print()\n",
    "print(np.hstack([v1, v2]))\n",
    "print()\n",
    "print(np.column_stack([v1, v2]))\n",
    "print()\n",
    "\n"
   ]
  },
  {
   "cell_type": "markdown",
   "id": "97d8bf6d",
   "metadata": {},
   "source": [
    "### Doing mathematical operations in NumPy Arrays"
   ]
  },
  {
   "cell_type": "markdown",
   "id": "61ada393",
   "metadata": {},
   "source": [
    "#### Elementwise Operations"
   ]
  },
  {
   "cell_type": "code",
   "execution_count": 48,
   "id": "97c08ed5",
   "metadata": {},
   "outputs": [
    {
     "name": "stdout",
     "output_type": "stream",
     "text": [
      "[1 2 3 4]\n",
      "[1 2 3 4] + 2 =  [3 4 5 6]\n",
      "[1 2 3 4] - 2 =  [-1  0  1  2]\n",
      "[1 2 3 4] * 2 =  [2 4 6 8]\n",
      "[1 2 3 4] / 2 =  [0.5 1.  1.5 2. ]\n",
      "[1 2 3 4] % 2 =  [1 0 1 0]\n",
      "[1 2 3 4] // 2 =  [0 1 1 2]\n",
      "[1 2 3 4] ** 2 =  [ 1  4  9 16]\n"
     ]
    }
   ],
   "source": [
    "a = np.array([1, 2, 3, 4])\n",
    "print(a)\n",
    "print(a, \"+ 2 = \", a + 2)\n",
    "print(a, \"- 2 = \", a - 2)\n",
    "print(a, \"* 2 = \", a * 2)\n",
    "print(a, \"/ 2 = \", a / 2)\n",
    "print(a, \"% 2 = \", a % 2)\n",
    "print(a, \"// 2 = \", a // 2)\n",
    "print(a, \"** 2 = \", a ** 2)"
   ]
  },
  {
   "cell_type": "code",
   "execution_count": 49,
   "id": "77e84a73",
   "metadata": {},
   "outputs": [
    {
     "name": "stdout",
     "output_type": "stream",
     "text": [
      "[1 2 3 4]  +  [1 2 2 1]  =  [2 4 5 5]\n",
      "[1 2 3 4]  *  [1 2 2 1]  =  [1 4 6 4]\n"
     ]
    }
   ],
   "source": [
    "a = np.array([1, 2, 3, 4])\n",
    "b = np.array([1, 2, 2, 1])\n",
    "print(a, \" + \", b, \" = \", a + b)\n",
    "print(a, \" * \", b, \" = \", a * b)"
   ]
  },
  {
   "cell_type": "markdown",
   "id": "5c83e24d",
   "metadata": {},
   "source": [
    "#### Boolean Operations"
   ]
  },
  {
   "cell_type": "code",
   "execution_count": 50,
   "id": "09087bb2",
   "metadata": {},
   "outputs": [
    {
     "name": "stdout",
     "output_type": "stream",
     "text": [
      "[[6 1 8]\n",
      " [3 9 8]\n",
      " [5 2 1]] \n",
      "\n",
      "[[False  True False]\n",
      " [ True False False]\n",
      " [False  True  True]]\n"
     ]
    }
   ],
   "source": [
    "a = np.array([[6, 1, 8], [3, 9, 8], [5, 2, 1]])\n",
    "print(a, \"\\n\")\n",
    "\n",
    "print(a < 5)"
   ]
  },
  {
   "cell_type": "code",
   "execution_count": 52,
   "id": "adf17035",
   "metadata": {},
   "outputs": [
    {
     "name": "stdout",
     "output_type": "stream",
     "text": [
      "[[6 1 8]\n",
      " [3 9 8]\n",
      " [5 2 1]] \n",
      "\n",
      "[1 3 2 1]\n",
      "\n",
      "[6 8 9 8 5]\n"
     ]
    }
   ],
   "source": [
    "print(a, \"\\n\")\n",
    "print(a[a < 5]) # print all elements of `a` which are less than 5\n",
    "print()\n",
    "print(a[a >= 5]) # print all elements of `a` which are greater than or equal to 5"
   ]
  },
  {
   "cell_type": "code",
   "execution_count": 53,
   "id": "9b19ecf3",
   "metadata": {},
   "outputs": [
    {
     "name": "stdout",
     "output_type": "stream",
     "text": [
      "[[6 1 8]\n",
      " [3 9 8]\n",
      " [5 2 1]] \n",
      "\n",
      "True \n",
      "\n",
      "[False  True  True] \n",
      "\n",
      "[ True  True False] \n",
      "\n"
     ]
    }
   ],
   "source": [
    "print(a, \"\\n\")\n",
    "\n",
    "# check for whole nd array\n",
    "print(np.any(a >= 8), \"\\n\")\n",
    "\n",
    "# check in particular axis\n",
    "print(np.any(a >= 8, axis = 0), \"\\n\") # 0 means column\n",
    "print(np.any(a >= 8, axis = 1), \"\\n\") # 1 means row"
   ]
  },
  {
   "cell_type": "code",
   "execution_count": 54,
   "id": "20264f3f",
   "metadata": {},
   "outputs": [
    {
     "name": "stdout",
     "output_type": "stream",
     "text": [
      "[[6 1 8]\n",
      " [3 9 8]\n",
      " [5 2 1]] \n",
      "\n",
      "False \n",
      "\n",
      "[ True False False] \n",
      "\n",
      "[False  True False] \n",
      "\n"
     ]
    }
   ],
   "source": [
    "print(a, \"\\n\")\n",
    "\n",
    "# check for whole nd array\n",
    "print(np.all(a >= 3), \"\\n\")\n",
    "\n",
    "# check in particular axis\n",
    "print(np.all(a >= 3, axis = 0), \"\\n\") # 0 means column\n",
    "print(np.all(a >= 3, axis = 1), \"\\n\") # 1 means row"
   ]
  },
  {
   "cell_type": "code",
   "execution_count": null,
   "id": "76b8d459",
   "metadata": {},
   "outputs": [],
   "source": [
    "a = np.array([[1, 2, 3, 4, 5], [6, 7, 8, 9, 10], [11, 12, 13, 14, 15], [16, 17, 18, 19, 20], [21, 22, 23, 24, 25], [26, 27, 28, 29, 30]])\n",
    "print(a, \"\\n\")\n",
    "\n",
    "print(a[2:4, 0:2], \"\\n\")\n",
    "print(a[[0, 1, 2, 3], [1, 2, 3, 4]], \"\\n\")\n",
    "print(a[[0, 4, 5], 3:], \"\\n\")"
   ]
  },
  {
   "cell_type": "markdown",
   "id": "bc8250cd",
   "metadata": {},
   "source": [
    "#### Matrix and Linear Algebra"
   ]
  },
  {
   "cell_type": "code",
   "execution_count": null,
   "id": "22b9fa06",
   "metadata": {},
   "outputs": [],
   "source": [
    "a = np.array([[2, 3], [3, 4]])\n",
    "print(a, \"\\n\")\n",
    "\n",
    "b = np.array([[1, 2, 3], [2, 3, 1]])\n",
    "print(b, \"\\n\")\n",
    "\n",
    "print(np.matmul(a, b), \"\\n\")\n",
    "# print(np.matmul(b, a), \"\\n\") # this will give an error as they are not compatible for matrix multiplication\n",
    "\n",
    "print(\"Determinant of a = \", round(np.linalg.det(a), 2), \"\\n\")\n",
    "\n",
    "print(\"Inverse of a = \")\n",
    "print(np.linalg.inv(a), \"\\n\")"
   ]
  },
  {
   "cell_type": "markdown",
   "id": "6ba2fb05",
   "metadata": {},
   "source": [
    "#### Statistical Operation"
   ]
  },
  {
   "cell_type": "code",
   "execution_count": null,
   "id": "217c4d11",
   "metadata": {},
   "outputs": [],
   "source": [
    "stats = np.array([[6, 1, 8, 0], [3, 9, 8, 7]])\n",
    "print(stats, \"\\n\")\n",
    "\n",
    "print(np.min(stats))\n",
    "print(np.min(stats, axis = 0))\n",
    "print(np.min(stats, axis = 1), \"\\n\")\n",
    "\n",
    "print(np.max(stats))\n",
    "print(np.max(stats, axis = 0))\n",
    "print(np.max(stats, axis = 1), \"\\n\")\n",
    "\n",
    "print(np.sum(stats))\n",
    "print(np.sum(stats, axis = 0))\n",
    "print(np.sum(stats, axis = 1), \"\\n\")\n"
   ]
  }
 ],
 "metadata": {
  "kernelspec": {
   "display_name": "Python 3",
   "language": "python",
   "name": "python3"
  },
  "language_info": {
   "codemirror_mode": {
    "name": "ipython",
    "version": 3
   },
   "file_extension": ".py",
   "mimetype": "text/x-python",
   "name": "python",
   "nbconvert_exporter": "python",
   "pygments_lexer": "ipython3",
   "version": "3.13.2"
  }
 },
 "nbformat": 4,
 "nbformat_minor": 5
}
