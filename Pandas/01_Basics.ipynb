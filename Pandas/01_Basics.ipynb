{
 "cells": [
  {
   "cell_type": "code",
   "execution_count": 4,
   "metadata": {},
   "outputs": [],
   "source": [
    "import pandas as pd"
   ]
  },
  {
   "cell_type": "markdown",
   "metadata": {},
   "source": [
    "## Importing a CSV file"
   ]
  },
  {
   "cell_type": "markdown",
   "metadata": {},
   "source": [
    "#### Reading and Storing data in a dataframe"
   ]
  },
  {
   "cell_type": "code",
   "execution_count": 5,
   "metadata": {},
   "outputs": [
    {
     "name": "stdout",
     "output_type": "stream",
     "text": [
      "<class 'pandas.core.frame.DataFrame'>\n"
     ]
    }
   ],
   "source": [
    "df = pd.read_csv(\"pokedex.csv\")\n",
    "\n",
    "print(type(df))"
   ]
  },
  {
   "cell_type": "markdown",
   "metadata": {},
   "source": [
    "## Printing the dataframe"
   ]
  },
  {
   "cell_type": "code",
   "execution_count": 8,
   "metadata": {},
   "outputs": [
    {
     "data": {
      "text/html": [
       "<div>\n",
       "<style scoped>\n",
       "    .dataframe tbody tr th:only-of-type {\n",
       "        vertical-align: middle;\n",
       "    }\n",
       "\n",
       "    .dataframe tbody tr th {\n",
       "        vertical-align: top;\n",
       "    }\n",
       "\n",
       "    .dataframe thead th {\n",
       "        text-align: right;\n",
       "    }\n",
       "</style>\n",
       "<table border=\"1\" class=\"dataframe\">\n",
       "  <thead>\n",
       "    <tr style=\"text-align: right;\">\n",
       "      <th></th>\n",
       "      <th>DexNum</th>\n",
       "      <th>Name</th>\n",
       "      <th>HP</th>\n",
       "      <th>PA</th>\n",
       "      <th>PD</th>\n",
       "      <th>SA</th>\n",
       "      <th>SD</th>\n",
       "      <th>SP</th>\n",
       "      <th>BST</th>\n",
       "      <th>Type1</th>\n",
       "      <th>Type2</th>\n",
       "      <th>Abil1</th>\n",
       "      <th>Abil2</th>\n",
       "    </tr>\n",
       "  </thead>\n",
       "  <tbody>\n",
       "    <tr>\n",
       "      <th>0</th>\n",
       "      <td>1</td>\n",
       "      <td>BULBASAUR</td>\n",
       "      <td>45</td>\n",
       "      <td>49</td>\n",
       "      <td>49</td>\n",
       "      <td>65</td>\n",
       "      <td>65</td>\n",
       "      <td>45</td>\n",
       "      <td>318</td>\n",
       "      <td>GRASS</td>\n",
       "      <td>...</td>\n",
       "      <td>OVERGROW</td>\n",
       "      <td>...</td>\n",
       "    </tr>\n",
       "    <tr>\n",
       "      <th>1</th>\n",
       "      <td>2</td>\n",
       "      <td>IVYSAUR</td>\n",
       "      <td>60</td>\n",
       "      <td>62</td>\n",
       "      <td>63</td>\n",
       "      <td>80</td>\n",
       "      <td>80</td>\n",
       "      <td>60</td>\n",
       "      <td>405</td>\n",
       "      <td>GRASS</td>\n",
       "      <td>POISON</td>\n",
       "      <td>OVERGROW</td>\n",
       "      <td>...</td>\n",
       "    </tr>\n",
       "    <tr>\n",
       "      <th>2</th>\n",
       "      <td>3</td>\n",
       "      <td>VENUSAUR</td>\n",
       "      <td>80</td>\n",
       "      <td>82</td>\n",
       "      <td>83</td>\n",
       "      <td>100</td>\n",
       "      <td>100</td>\n",
       "      <td>80</td>\n",
       "      <td>525</td>\n",
       "      <td>GRASS</td>\n",
       "      <td>POISON</td>\n",
       "      <td>OVERGROW</td>\n",
       "      <td>...</td>\n",
       "    </tr>\n",
       "    <tr>\n",
       "      <th>3</th>\n",
       "      <td>4</td>\n",
       "      <td>CHARMANDER</td>\n",
       "      <td>39</td>\n",
       "      <td>52</td>\n",
       "      <td>43</td>\n",
       "      <td>60</td>\n",
       "      <td>50</td>\n",
       "      <td>65</td>\n",
       "      <td>309</td>\n",
       "      <td>FIRE</td>\n",
       "      <td>...</td>\n",
       "      <td>BLAZE</td>\n",
       "      <td>...</td>\n",
       "    </tr>\n",
       "    <tr>\n",
       "      <th>4</th>\n",
       "      <td>5</td>\n",
       "      <td>CHARMELEON</td>\n",
       "      <td>58</td>\n",
       "      <td>64</td>\n",
       "      <td>58</td>\n",
       "      <td>80</td>\n",
       "      <td>65</td>\n",
       "      <td>80</td>\n",
       "      <td>405</td>\n",
       "      <td>FIRE</td>\n",
       "      <td>...</td>\n",
       "      <td>BLAZE</td>\n",
       "      <td>...</td>\n",
       "    </tr>\n",
       "    <tr>\n",
       "      <th>...</th>\n",
       "      <td>...</td>\n",
       "      <td>...</td>\n",
       "      <td>...</td>\n",
       "      <td>...</td>\n",
       "      <td>...</td>\n",
       "      <td>...</td>\n",
       "      <td>...</td>\n",
       "      <td>...</td>\n",
       "      <td>...</td>\n",
       "      <td>...</td>\n",
       "      <td>...</td>\n",
       "      <td>...</td>\n",
       "      <td>...</td>\n",
       "    </tr>\n",
       "    <tr>\n",
       "      <th>381</th>\n",
       "      <td>382</td>\n",
       "      <td>KYOGRE</td>\n",
       "      <td>100</td>\n",
       "      <td>100</td>\n",
       "      <td>90</td>\n",
       "      <td>150</td>\n",
       "      <td>140</td>\n",
       "      <td>90</td>\n",
       "      <td>670</td>\n",
       "      <td>WATER</td>\n",
       "      <td>...</td>\n",
       "      <td>DRIZZLE</td>\n",
       "      <td>...</td>\n",
       "    </tr>\n",
       "    <tr>\n",
       "      <th>382</th>\n",
       "      <td>383</td>\n",
       "      <td>GROUDON</td>\n",
       "      <td>100</td>\n",
       "      <td>150</td>\n",
       "      <td>140</td>\n",
       "      <td>100</td>\n",
       "      <td>90</td>\n",
       "      <td>90</td>\n",
       "      <td>670</td>\n",
       "      <td>GROUND</td>\n",
       "      <td>...</td>\n",
       "      <td>DROUGHT</td>\n",
       "      <td>...</td>\n",
       "    </tr>\n",
       "    <tr>\n",
       "      <th>383</th>\n",
       "      <td>384</td>\n",
       "      <td>RAYQUAZA</td>\n",
       "      <td>105</td>\n",
       "      <td>150</td>\n",
       "      <td>90</td>\n",
       "      <td>150</td>\n",
       "      <td>90</td>\n",
       "      <td>95</td>\n",
       "      <td>680</td>\n",
       "      <td>DRAGON</td>\n",
       "      <td>FLYING</td>\n",
       "      <td>AIR_LOCK</td>\n",
       "      <td>...</td>\n",
       "    </tr>\n",
       "    <tr>\n",
       "      <th>384</th>\n",
       "      <td>385</td>\n",
       "      <td>JIRACHI</td>\n",
       "      <td>100</td>\n",
       "      <td>100</td>\n",
       "      <td>100</td>\n",
       "      <td>100</td>\n",
       "      <td>100</td>\n",
       "      <td>100</td>\n",
       "      <td>600</td>\n",
       "      <td>GRASS</td>\n",
       "      <td>STEEL</td>\n",
       "      <td>SERENE_GRACE</td>\n",
       "      <td>...</td>\n",
       "    </tr>\n",
       "    <tr>\n",
       "      <th>385</th>\n",
       "      <td>386</td>\n",
       "      <td>MISSINGNO.</td>\n",
       "      <td>50</td>\n",
       "      <td>150</td>\n",
       "      <td>50</td>\n",
       "      <td>150</td>\n",
       "      <td>50</td>\n",
       "      <td>150</td>\n",
       "      <td>600</td>\n",
       "      <td>NORMAL</td>\n",
       "      <td>GHOST</td>\n",
       "      <td>PRESSURE</td>\n",
       "      <td>...</td>\n",
       "    </tr>\n",
       "  </tbody>\n",
       "</table>\n",
       "<p>386 rows × 13 columns</p>\n",
       "</div>"
      ],
      "text/plain": [
       "     DexNum        Name   HP   PA   PD   SA   SD   SP  BST   Type1   Type2  \\\n",
       "0         1   BULBASAUR   45   49   49   65   65   45  318   GRASS     ...   \n",
       "1         2     IVYSAUR   60   62   63   80   80   60  405   GRASS  POISON   \n",
       "2         3    VENUSAUR   80   82   83  100  100   80  525   GRASS  POISON   \n",
       "3         4  CHARMANDER   39   52   43   60   50   65  309    FIRE     ...   \n",
       "4         5  CHARMELEON   58   64   58   80   65   80  405    FIRE     ...   \n",
       "..      ...         ...  ...  ...  ...  ...  ...  ...  ...     ...     ...   \n",
       "381     382      KYOGRE  100  100   90  150  140   90  670   WATER     ...   \n",
       "382     383     GROUDON  100  150  140  100   90   90  670  GROUND     ...   \n",
       "383     384    RAYQUAZA  105  150   90  150   90   95  680  DRAGON  FLYING   \n",
       "384     385     JIRACHI  100  100  100  100  100  100  600   GRASS   STEEL   \n",
       "385     386  MISSINGNO.   50  150   50  150   50  150  600  NORMAL   GHOST   \n",
       "\n",
       "            Abil1 Abil2  \n",
       "0        OVERGROW   ...  \n",
       "1        OVERGROW   ...  \n",
       "2        OVERGROW   ...  \n",
       "3           BLAZE   ...  \n",
       "4           BLAZE   ...  \n",
       "..            ...   ...  \n",
       "381       DRIZZLE   ...  \n",
       "382       DROUGHT   ...  \n",
       "383      AIR_LOCK   ...  \n",
       "384  SERENE_GRACE   ...  \n",
       "385      PRESSURE   ...  \n",
       "\n",
       "[386 rows x 13 columns]"
      ]
     },
     "execution_count": 8,
     "metadata": {},
     "output_type": "execute_result"
    }
   ],
   "source": [
    "# to print the complete dataframe\n",
    "# df.head(5) # to print first 5 rows\n",
    "# df.tail(5) # to print last 5 rows\n",
    "df"
   ]
  },
  {
   "cell_type": "markdown",
   "metadata": {},
   "source": [
    "#### Printing the column names / headers"
   ]
  },
  {
   "cell_type": "code",
   "execution_count": 10,
   "metadata": {},
   "outputs": [
    {
     "name": "stdout",
     "output_type": "stream",
     "text": [
      "<class 'list'>\n",
      "['DexNum', 'Name', 'HP', 'PA', 'PD', 'SA', 'SD', 'SP', 'BST', 'Type1', 'Type2', 'Abil1', 'Abil2']\n"
     ]
    }
   ],
   "source": [
    "l = list(df.columns)\n",
    "\n",
    "print(type(l))\n",
    "print(l)"
   ]
  },
  {
   "cell_type": "markdown",
   "metadata": {},
   "source": [
    "#### Accessing specific columns"
   ]
  },
  {
   "cell_type": "code",
   "execution_count": null,
   "metadata": {},
   "outputs": [],
   "source": [
    "new_df = df[['Name', 'Type1', 'Type2']]\n",
    "new_df "
   ]
  },
  {
   "cell_type": "markdown",
   "metadata": {},
   "source": [
    "#### Accessing specific rows"
   ]
  },
  {
   "cell_type": "code",
   "execution_count": 11,
   "metadata": {},
   "outputs": [
    {
     "name": "stdout",
     "output_type": "stream",
     "text": [
      "<class 'pandas.core.series.Series'>\n"
     ]
    },
    {
     "data": {
      "text/plain": [
       "DexNum             4\n",
       "Name      CHARMANDER\n",
       "HP                39\n",
       "PA                52\n",
       "PD                43\n",
       "SA                60\n",
       "SD                50\n",
       "SP                65\n",
       "BST              309\n",
       "Type1           FIRE\n",
       "Type2            ...\n",
       "Abil1          BLAZE\n",
       "Abil2            ...\n",
       "Name: 3, dtype: object"
      ]
     },
     "execution_count": 11,
     "metadata": {},
     "output_type": "execute_result"
    }
   ],
   "source": [
    "row = df.iloc[3]\n",
    "print(type(row))\n",
    "row"
   ]
  },
  {
   "cell_type": "code",
   "execution_count": 12,
   "metadata": {},
   "outputs": [
    {
     "name": "stdout",
     "output_type": "stream",
     "text": [
      "<class 'pandas.core.frame.DataFrame'>\n"
     ]
    },
    {
     "data": {
      "text/html": [
       "<div>\n",
       "<style scoped>\n",
       "    .dataframe tbody tr th:only-of-type {\n",
       "        vertical-align: middle;\n",
       "    }\n",
       "\n",
       "    .dataframe tbody tr th {\n",
       "        vertical-align: top;\n",
       "    }\n",
       "\n",
       "    .dataframe thead th {\n",
       "        text-align: right;\n",
       "    }\n",
       "</style>\n",
       "<table border=\"1\" class=\"dataframe\">\n",
       "  <thead>\n",
       "    <tr style=\"text-align: right;\">\n",
       "      <th></th>\n",
       "      <th>DexNum</th>\n",
       "      <th>Name</th>\n",
       "      <th>HP</th>\n",
       "      <th>PA</th>\n",
       "      <th>PD</th>\n",
       "      <th>SA</th>\n",
       "      <th>SD</th>\n",
       "      <th>SP</th>\n",
       "      <th>BST</th>\n",
       "      <th>Type1</th>\n",
       "      <th>Type2</th>\n",
       "      <th>Abil1</th>\n",
       "      <th>Abil2</th>\n",
       "    </tr>\n",
       "  </thead>\n",
       "  <tbody>\n",
       "    <tr>\n",
       "      <th>3</th>\n",
       "      <td>4</td>\n",
       "      <td>CHARMANDER</td>\n",
       "      <td>39</td>\n",
       "      <td>52</td>\n",
       "      <td>43</td>\n",
       "      <td>60</td>\n",
       "      <td>50</td>\n",
       "      <td>65</td>\n",
       "      <td>309</td>\n",
       "      <td>FIRE</td>\n",
       "      <td>...</td>\n",
       "      <td>BLAZE</td>\n",
       "      <td>...</td>\n",
       "    </tr>\n",
       "    <tr>\n",
       "      <th>4</th>\n",
       "      <td>5</td>\n",
       "      <td>CHARMELEON</td>\n",
       "      <td>58</td>\n",
       "      <td>64</td>\n",
       "      <td>58</td>\n",
       "      <td>80</td>\n",
       "      <td>65</td>\n",
       "      <td>80</td>\n",
       "      <td>405</td>\n",
       "      <td>FIRE</td>\n",
       "      <td>...</td>\n",
       "      <td>BLAZE</td>\n",
       "      <td>...</td>\n",
       "    </tr>\n",
       "    <tr>\n",
       "      <th>5</th>\n",
       "      <td>6</td>\n",
       "      <td>CHARIZARD</td>\n",
       "      <td>78</td>\n",
       "      <td>84</td>\n",
       "      <td>78</td>\n",
       "      <td>109</td>\n",
       "      <td>85</td>\n",
       "      <td>100</td>\n",
       "      <td>534</td>\n",
       "      <td>FIRE</td>\n",
       "      <td>FLYING</td>\n",
       "      <td>BLAZE</td>\n",
       "      <td>...</td>\n",
       "    </tr>\n",
       "  </tbody>\n",
       "</table>\n",
       "</div>"
      ],
      "text/plain": [
       "   DexNum        Name  HP  PA  PD   SA  SD   SP  BST Type1   Type2  Abil1  \\\n",
       "3       4  CHARMANDER  39  52  43   60  50   65  309  FIRE     ...  BLAZE   \n",
       "4       5  CHARMELEON  58  64  58   80  65   80  405  FIRE     ...  BLAZE   \n",
       "5       6   CHARIZARD  78  84  78  109  85  100  534  FIRE  FLYING  BLAZE   \n",
       "\n",
       "  Abil2  \n",
       "3   ...  \n",
       "4   ...  \n",
       "5   ...  "
      ]
     },
     "execution_count": 12,
     "metadata": {},
     "output_type": "execute_result"
    }
   ],
   "source": [
    "slice = df.iloc[3:6]\n",
    "print(type(slice))\n",
    "slice"
   ]
  },
  {
   "cell_type": "markdown",
   "metadata": {},
   "source": [
    "#### Accessing specific cells"
   ]
  },
  {
   "cell_type": "code",
   "execution_count": 14,
   "metadata": {},
   "outputs": [
    {
     "data": {
      "text/html": [
       "<div>\n",
       "<style scoped>\n",
       "    .dataframe tbody tr th:only-of-type {\n",
       "        vertical-align: middle;\n",
       "    }\n",
       "\n",
       "    .dataframe tbody tr th {\n",
       "        vertical-align: top;\n",
       "    }\n",
       "\n",
       "    .dataframe thead th {\n",
       "        text-align: right;\n",
       "    }\n",
       "</style>\n",
       "<table border=\"1\" class=\"dataframe\">\n",
       "  <thead>\n",
       "    <tr style=\"text-align: right;\">\n",
       "      <th></th>\n",
       "      <th>Name</th>\n",
       "      <th>Type1</th>\n",
       "      <th>Type2</th>\n",
       "    </tr>\n",
       "  </thead>\n",
       "  <tbody>\n",
       "    <tr>\n",
       "      <th>0</th>\n",
       "      <td>BULBASAUR</td>\n",
       "      <td>GRASS</td>\n",
       "      <td>...</td>\n",
       "    </tr>\n",
       "    <tr>\n",
       "      <th>3</th>\n",
       "      <td>CHARMANDER</td>\n",
       "      <td>FIRE</td>\n",
       "      <td>...</td>\n",
       "    </tr>\n",
       "    <tr>\n",
       "      <th>6</th>\n",
       "      <td>SQUIRTLE</td>\n",
       "      <td>WATER</td>\n",
       "      <td>...</td>\n",
       "    </tr>\n",
       "  </tbody>\n",
       "</table>\n",
       "</div>"
      ],
      "text/plain": [
       "         Name  Type1 Type2\n",
       "0   BULBASAUR  GRASS   ...\n",
       "3  CHARMANDER   FIRE   ...\n",
       "6    SQUIRTLE  WATER   ..."
      ]
     },
     "execution_count": 14,
     "metadata": {},
     "output_type": "execute_result"
    }
   ],
   "source": [
    "cells = df.iloc[[0, 3, 6], [1, 9, 10]] # 0,3,6 is for rows # 1,9, 10 is for cols\n",
    "cells"
   ]
  },
  {
   "cell_type": "markdown",
   "metadata": {},
   "source": [
    "#### Accessing specific rows based on some condition"
   ]
  },
  {
   "cell_type": "code",
   "execution_count": 17,
   "metadata": {},
   "outputs": [
    {
     "data": {
      "text/html": [
       "<div>\n",
       "<style scoped>\n",
       "    .dataframe tbody tr th:only-of-type {\n",
       "        vertical-align: middle;\n",
       "    }\n",
       "\n",
       "    .dataframe tbody tr th {\n",
       "        vertical-align: top;\n",
       "    }\n",
       "\n",
       "    .dataframe thead th {\n",
       "        text-align: right;\n",
       "    }\n",
       "</style>\n",
       "<table border=\"1\" class=\"dataframe\">\n",
       "  <thead>\n",
       "    <tr style=\"text-align: right;\">\n",
       "      <th></th>\n",
       "      <th>DexNum</th>\n",
       "      <th>Name</th>\n",
       "      <th>HP</th>\n",
       "      <th>PA</th>\n",
       "      <th>PD</th>\n",
       "      <th>SA</th>\n",
       "      <th>SD</th>\n",
       "      <th>SP</th>\n",
       "      <th>BST</th>\n",
       "      <th>Type1</th>\n",
       "      <th>Type2</th>\n",
       "      <th>Abil1</th>\n",
       "      <th>Abil2</th>\n",
       "    </tr>\n",
       "  </thead>\n",
       "  <tbody>\n",
       "    <tr>\n",
       "      <th>0</th>\n",
       "      <td>21</td>\n",
       "      <td>SPEAROW</td>\n",
       "      <td>40</td>\n",
       "      <td>60</td>\n",
       "      <td>30</td>\n",
       "      <td>31</td>\n",
       "      <td>31</td>\n",
       "      <td>70</td>\n",
       "      <td>262</td>\n",
       "      <td>FLYING</td>\n",
       "      <td>...</td>\n",
       "      <td>KEEN_EYE</td>\n",
       "      <td>...</td>\n",
       "    </tr>\n",
       "    <tr>\n",
       "      <th>1</th>\n",
       "      <td>22</td>\n",
       "      <td>FEAROW</td>\n",
       "      <td>65</td>\n",
       "      <td>90</td>\n",
       "      <td>65</td>\n",
       "      <td>61</td>\n",
       "      <td>61</td>\n",
       "      <td>100</td>\n",
       "      <td>442</td>\n",
       "      <td>FLYING</td>\n",
       "      <td>DARK</td>\n",
       "      <td>KEEN_EYE</td>\n",
       "      <td>...</td>\n",
       "    </tr>\n",
       "    <tr>\n",
       "      <th>2</th>\n",
       "      <td>83</td>\n",
       "      <td>FARFETCH'D</td>\n",
       "      <td>52</td>\n",
       "      <td>65</td>\n",
       "      <td>55</td>\n",
       "      <td>58</td>\n",
       "      <td>62</td>\n",
       "      <td>60</td>\n",
       "      <td>352</td>\n",
       "      <td>FLYING</td>\n",
       "      <td>...</td>\n",
       "      <td>KEEN_EYE</td>\n",
       "      <td>INNER_FOCUS</td>\n",
       "    </tr>\n",
       "    <tr>\n",
       "      <th>3</th>\n",
       "      <td>84</td>\n",
       "      <td>DODUO</td>\n",
       "      <td>35</td>\n",
       "      <td>85</td>\n",
       "      <td>45</td>\n",
       "      <td>35</td>\n",
       "      <td>35</td>\n",
       "      <td>75</td>\n",
       "      <td>310</td>\n",
       "      <td>FLYING</td>\n",
       "      <td>...</td>\n",
       "      <td>RUN_AWAY</td>\n",
       "      <td>EARLY_BIRD</td>\n",
       "    </tr>\n",
       "    <tr>\n",
       "      <th>4</th>\n",
       "      <td>85</td>\n",
       "      <td>DODRIO</td>\n",
       "      <td>60</td>\n",
       "      <td>110</td>\n",
       "      <td>70</td>\n",
       "      <td>60</td>\n",
       "      <td>60</td>\n",
       "      <td>100</td>\n",
       "      <td>460</td>\n",
       "      <td>FLYING</td>\n",
       "      <td>FIGHTING</td>\n",
       "      <td>RUN_AWAY</td>\n",
       "      <td>EARLY_BIRD</td>\n",
       "    </tr>\n",
       "    <tr>\n",
       "      <th>5</th>\n",
       "      <td>163</td>\n",
       "      <td>HOOTHOOT</td>\n",
       "      <td>60</td>\n",
       "      <td>30</td>\n",
       "      <td>30</td>\n",
       "      <td>36</td>\n",
       "      <td>56</td>\n",
       "      <td>50</td>\n",
       "      <td>262</td>\n",
       "      <td>FLYING</td>\n",
       "      <td>...</td>\n",
       "      <td>INSOMNIA</td>\n",
       "      <td>KEEN_EYE</td>\n",
       "    </tr>\n",
       "    <tr>\n",
       "      <th>6</th>\n",
       "      <td>164</td>\n",
       "      <td>NOCTOWL</td>\n",
       "      <td>100</td>\n",
       "      <td>50</td>\n",
       "      <td>50</td>\n",
       "      <td>76</td>\n",
       "      <td>96</td>\n",
       "      <td>70</td>\n",
       "      <td>442</td>\n",
       "      <td>FLYING</td>\n",
       "      <td>GHOST</td>\n",
       "      <td>INSOMNIA</td>\n",
       "      <td>KEEN_EYE</td>\n",
       "    </tr>\n",
       "    <tr>\n",
       "      <th>7</th>\n",
       "      <td>177</td>\n",
       "      <td>PIDOVE</td>\n",
       "      <td>40</td>\n",
       "      <td>50</td>\n",
       "      <td>45</td>\n",
       "      <td>70</td>\n",
       "      <td>45</td>\n",
       "      <td>70</td>\n",
       "      <td>320</td>\n",
       "      <td>FLYING</td>\n",
       "      <td>...</td>\n",
       "      <td>SYNCHRONIZE</td>\n",
       "      <td>EARLY_BIRD</td>\n",
       "    </tr>\n",
       "    <tr>\n",
       "      <th>8</th>\n",
       "      <td>178</td>\n",
       "      <td>UNFEZANT</td>\n",
       "      <td>65</td>\n",
       "      <td>75</td>\n",
       "      <td>70</td>\n",
       "      <td>95</td>\n",
       "      <td>70</td>\n",
       "      <td>95</td>\n",
       "      <td>470</td>\n",
       "      <td>FLYING</td>\n",
       "      <td>PSYCHIC</td>\n",
       "      <td>SYNCHRONIZE</td>\n",
       "      <td>EARLY_BIRD</td>\n",
       "    </tr>\n",
       "  </tbody>\n",
       "</table>\n",
       "</div>"
      ],
      "text/plain": [
       "   DexNum        Name   HP   PA  PD  SA  SD   SP  BST   Type1     Type2  \\\n",
       "0      21     SPEAROW   40   60  30  31  31   70  262  FLYING       ...   \n",
       "1      22      FEAROW   65   90  65  61  61  100  442  FLYING      DARK   \n",
       "2      83  FARFETCH'D   52   65  55  58  62   60  352  FLYING       ...   \n",
       "3      84       DODUO   35   85  45  35  35   75  310  FLYING       ...   \n",
       "4      85      DODRIO   60  110  70  60  60  100  460  FLYING  FIGHTING   \n",
       "5     163    HOOTHOOT   60   30  30  36  56   50  262  FLYING       ...   \n",
       "6     164     NOCTOWL  100   50  50  76  96   70  442  FLYING     GHOST   \n",
       "7     177      PIDOVE   40   50  45  70  45   70  320  FLYING       ...   \n",
       "8     178    UNFEZANT   65   75  70  95  70   95  470  FLYING   PSYCHIC   \n",
       "\n",
       "         Abil1        Abil2  \n",
       "0     KEEN_EYE          ...  \n",
       "1     KEEN_EYE          ...  \n",
       "2     KEEN_EYE  INNER_FOCUS  \n",
       "3     RUN_AWAY   EARLY_BIRD  \n",
       "4     RUN_AWAY   EARLY_BIRD  \n",
       "5     INSOMNIA     KEEN_EYE  \n",
       "6     INSOMNIA     KEEN_EYE  \n",
       "7  SYNCHRONIZE   EARLY_BIRD  \n",
       "8  SYNCHRONIZE   EARLY_BIRD  "
      ]
     },
     "execution_count": 17,
     "metadata": {},
     "output_type": "execute_result"
    }
   ],
   "source": [
    "flying_type_mons = df.loc[df['Type1'] == \"FLYING\"].reset_index(drop = True)\n",
    "flying_type_mons"
   ]
  },
  {
   "cell_type": "markdown",
   "metadata": {},
   "source": [
    "#### Getting statistics of the dataframe"
   ]
  },
  {
   "cell_type": "code",
   "execution_count": 18,
   "metadata": {},
   "outputs": [
    {
     "data": {
      "text/html": [
       "<div>\n",
       "<style scoped>\n",
       "    .dataframe tbody tr th:only-of-type {\n",
       "        vertical-align: middle;\n",
       "    }\n",
       "\n",
       "    .dataframe tbody tr th {\n",
       "        vertical-align: top;\n",
       "    }\n",
       "\n",
       "    .dataframe thead th {\n",
       "        text-align: right;\n",
       "    }\n",
       "</style>\n",
       "<table border=\"1\" class=\"dataframe\">\n",
       "  <thead>\n",
       "    <tr style=\"text-align: right;\">\n",
       "      <th></th>\n",
       "      <th>DexNum</th>\n",
       "      <th>HP</th>\n",
       "      <th>PA</th>\n",
       "      <th>PD</th>\n",
       "      <th>SA</th>\n",
       "      <th>SD</th>\n",
       "      <th>SP</th>\n",
       "      <th>BST</th>\n",
       "    </tr>\n",
       "  </thead>\n",
       "  <tbody>\n",
       "    <tr>\n",
       "      <th>count</th>\n",
       "      <td>386.000000</td>\n",
       "      <td>386.000000</td>\n",
       "      <td>386.000000</td>\n",
       "      <td>386.000000</td>\n",
       "      <td>386.000000</td>\n",
       "      <td>386.000000</td>\n",
       "      <td>386.000000</td>\n",
       "      <td>386.000000</td>\n",
       "    </tr>\n",
       "    <tr>\n",
       "      <th>mean</th>\n",
       "      <td>193.500000</td>\n",
       "      <td>66.279793</td>\n",
       "      <td>71.505181</td>\n",
       "      <td>68.683938</td>\n",
       "      <td>66.409326</td>\n",
       "      <td>67.593264</td>\n",
       "      <td>64.308290</td>\n",
       "      <td>404.779793</td>\n",
       "    </tr>\n",
       "    <tr>\n",
       "      <th>std</th>\n",
       "      <td>111.572846</td>\n",
       "      <td>28.153834</td>\n",
       "      <td>28.326963</td>\n",
       "      <td>30.544812</td>\n",
       "      <td>27.469999</td>\n",
       "      <td>27.727484</td>\n",
       "      <td>27.034577</td>\n",
       "      <td>107.997695</td>\n",
       "    </tr>\n",
       "    <tr>\n",
       "      <th>min</th>\n",
       "      <td>1.000000</td>\n",
       "      <td>1.000000</td>\n",
       "      <td>5.000000</td>\n",
       "      <td>5.000000</td>\n",
       "      <td>10.000000</td>\n",
       "      <td>20.000000</td>\n",
       "      <td>5.000000</td>\n",
       "      <td>180.000000</td>\n",
       "    </tr>\n",
       "    <tr>\n",
       "      <th>25%</th>\n",
       "      <td>97.250000</td>\n",
       "      <td>50.000000</td>\n",
       "      <td>50.000000</td>\n",
       "      <td>49.250000</td>\n",
       "      <td>45.000000</td>\n",
       "      <td>50.000000</td>\n",
       "      <td>45.000000</td>\n",
       "      <td>314.000000</td>\n",
       "    </tr>\n",
       "    <tr>\n",
       "      <th>50%</th>\n",
       "      <td>193.500000</td>\n",
       "      <td>63.000000</td>\n",
       "      <td>70.000000</td>\n",
       "      <td>65.000000</td>\n",
       "      <td>65.000000</td>\n",
       "      <td>65.000000</td>\n",
       "      <td>62.000000</td>\n",
       "      <td>410.000000</td>\n",
       "    </tr>\n",
       "    <tr>\n",
       "      <th>75%</th>\n",
       "      <td>289.750000</td>\n",
       "      <td>80.000000</td>\n",
       "      <td>90.000000</td>\n",
       "      <td>85.000000</td>\n",
       "      <td>85.000000</td>\n",
       "      <td>80.000000</td>\n",
       "      <td>85.000000</td>\n",
       "      <td>485.000000</td>\n",
       "    </tr>\n",
       "    <tr>\n",
       "      <th>max</th>\n",
       "      <td>386.000000</td>\n",
       "      <td>255.000000</td>\n",
       "      <td>160.000000</td>\n",
       "      <td>230.000000</td>\n",
       "      <td>154.000000</td>\n",
       "      <td>230.000000</td>\n",
       "      <td>160.000000</td>\n",
       "      <td>680.000000</td>\n",
       "    </tr>\n",
       "  </tbody>\n",
       "</table>\n",
       "</div>"
      ],
      "text/plain": [
       "           DexNum          HP          PA          PD          SA          SD  \\\n",
       "count  386.000000  386.000000  386.000000  386.000000  386.000000  386.000000   \n",
       "mean   193.500000   66.279793   71.505181   68.683938   66.409326   67.593264   \n",
       "std    111.572846   28.153834   28.326963   30.544812   27.469999   27.727484   \n",
       "min      1.000000    1.000000    5.000000    5.000000   10.000000   20.000000   \n",
       "25%     97.250000   50.000000   50.000000   49.250000   45.000000   50.000000   \n",
       "50%    193.500000   63.000000   70.000000   65.000000   65.000000   65.000000   \n",
       "75%    289.750000   80.000000   90.000000   85.000000   85.000000   80.000000   \n",
       "max    386.000000  255.000000  160.000000  230.000000  154.000000  230.000000   \n",
       "\n",
       "               SP         BST  \n",
       "count  386.000000  386.000000  \n",
       "mean    64.308290  404.779793  \n",
       "std     27.034577  107.997695  \n",
       "min      5.000000  180.000000  \n",
       "25%     45.000000  314.000000  \n",
       "50%     62.000000  410.000000  \n",
       "75%     85.000000  485.000000  \n",
       "max    160.000000  680.000000  "
      ]
     },
     "execution_count": 18,
     "metadata": {},
     "output_type": "execute_result"
    }
   ],
   "source": [
    "df.describe()"
   ]
  },
  {
   "cell_type": "markdown",
   "metadata": {},
   "source": [
    "#### Sorting the dataframe"
   ]
  },
  {
   "cell_type": "code",
   "execution_count": null,
   "metadata": {},
   "outputs": [],
   "source": [
    "# this sorts the df order by the specified column and creates / returns a new dataframe\n",
    "# this doesnt overwrite the original dataframe\n",
    "df.sort_values(['HP'], ascending=False).head(5).reset_index(drop = True)\n",
    "df"
   ]
  },
  {
   "cell_type": "markdown",
   "metadata": {},
   "source": [
    "## Altering the structure in the dataframe"
   ]
  },
  {
   "cell_type": "markdown",
   "metadata": {},
   "source": [
    "#### Adding a new column"
   ]
  },
  {
   "cell_type": "code",
   "execution_count": null,
   "metadata": {},
   "outputs": [],
   "source": [
    "# df['BST'] = df.iloc[:,4:10].sum(axis=1)\n",
    "\n",
    "df['isDefensive'] = (df['PA'] + df['SA'] + df['SP'] < df['HP'] + df['PD'] + df['SD'])\n",
    "df.head(9)"
   ]
  },
  {
   "cell_type": "markdown",
   "metadata": {},
   "source": [
    "#### Dropping a column"
   ]
  },
  {
   "cell_type": "code",
   "execution_count": null,
   "metadata": {},
   "outputs": [],
   "source": [
    "# this drops the specified column and creates / returns a new dataframe\n",
    "# this doesnt overwrite the original dataframe\n",
    "df.drop(columns = ['isDefensive']).head(3)"
   ]
  },
  {
   "cell_type": "code",
   "execution_count": null,
   "metadata": {},
   "outputs": [],
   "source": [
    "# to permanently drop the column\n",
    "df = df.drop(columns = ['isDefensive'])\n",
    "df.head(3)"
   ]
  },
  {
   "cell_type": "markdown",
   "metadata": {},
   "source": [
    "#### Rearranging the columns"
   ]
  },
  {
   "cell_type": "code",
   "execution_count": null,
   "metadata": {},
   "outputs": [],
   "source": [
    "# Be careful while using hardcoded values and re-running the cell\n",
    "cols = list(df.columns.values)\n",
    "cols\n",
    "# this rearranges the specified column and creates / returns a new dataframe\n",
    "# this doesnt overwrite the original dataframe\n",
    "\n",
    "new_df = df[[\"Name\"] + [\"Type1\"] + [\"Type2\"] + [\"BST\"]]\n",
    "new_df.head(9)"
   ]
  },
  {
   "cell_type": "markdown",
   "metadata": {},
   "source": [
    "## Saving changes to a CSV"
   ]
  },
  {
   "cell_type": "code",
   "execution_count": null,
   "metadata": {},
   "outputs": [],
   "source": [
    "# df.to_excel(\"pokemon_modified_data.xlsx\", index = False)\n",
    "# df.to_csv(\"pokemon_modified_data.csv\", index = False, sep = \"\\t\")\n",
    "new_df.to_csv(\"modified_pokedex.csv\", index = False)"
   ]
  },
  {
   "cell_type": "markdown",
   "metadata": {},
   "source": [
    "## Filtering the data"
   ]
  },
  {
   "cell_type": "code",
   "execution_count": null,
   "metadata": {},
   "outputs": [],
   "source": [
    "temp_df = df.loc[df['Type1'] == \"FLYING\"].reset_index(drop = True)\n",
    "\n",
    "temp_df"
   ]
  },
  {
   "cell_type": "code",
   "execution_count": null,
   "metadata": {},
   "outputs": [],
   "source": [
    "temp_df = df.loc[((df['Type1'] == \"FLYING\") | (df['Type2'] == \"FLYING\")) & (df['BST'] >= 450)].reset_index(drop = True)\n",
    "\n",
    "temp_df"
   ]
  },
  {
   "cell_type": "code",
   "execution_count": null,
   "metadata": {},
   "outputs": [],
   "source": [
    "temp_df = df.loc[~(df['SP'] > 10)].reset_index(drop = True)\n",
    "\n",
    "temp_df\n",
    "\n",
    "# or  -> |\n",
    "# and -> &\n",
    "# not -> ~"
   ]
  },
  {
   "cell_type": "code",
   "execution_count": null,
   "metadata": {},
   "outputs": [],
   "source": [
    "temp_df = df.loc[df['Name'].str.contains(\"KING\")]\n",
    "\n",
    "temp_df"
   ]
  },
  {
   "cell_type": "code",
   "execution_count": null,
   "metadata": {},
   "outputs": [],
   "source": [
    "temp_df = df.loc[df[\"Name\"].str.contains('^PI[A-Z]*', regex = True)]\n",
    "# regular expression : ^PI[A-Z]* -> any name starting with \"PI...\"\n",
    "temp_df"
   ]
  },
  {
   "cell_type": "markdown",
   "metadata": {},
   "source": [
    "## Updating values"
   ]
  },
  {
   "cell_type": "markdown",
   "metadata": {},
   "source": [
    "#### Updating values based on some condition"
   ]
  },
  {
   "cell_type": "code",
   "execution_count": null,
   "metadata": {},
   "outputs": [],
   "source": [
    "# temp_df = df\n",
    "# makes a shallow copy\n",
    "\n",
    "# It's safer to make a deep copy\n",
    "\n",
    "temp_df = df.copy()\n",
    "temp_df.loc[temp_df['Type2'] == \"POISON\", 'Type2'] = 'VENOM'\n",
    "# temp_df.loc[condition, columnToUpdate] = newValue\n",
    "\n",
    "temp_df.head(6)"
   ]
  },
  {
   "cell_type": "code",
   "execution_count": null,
   "metadata": {},
   "outputs": [],
   "source": [
    "# updating the value of one column based on a condition on multiple columns\n",
    "temp_df = df.copy()\n",
    "temp_df.loc[(temp_df['Type2'] == \"POISON\") | (temp_df['Type2'] == \"FLYING\"), 'SP'] += 1000\n",
    "temp_df.head(6)"
   ]
  },
  {
   "cell_type": "code",
   "execution_count": null,
   "metadata": {},
   "outputs": [],
   "source": [
    "# updating the value of multiple columns based on a condition on one column\n",
    "temp_df = df.copy()\n",
    "temp_df.loc[(temp_df['Type1'] == \"GRASS\"), ['PD', 'SD']] += [1000, 2000]\n",
    "temp_df.head(6)"
   ]
  },
  {
   "cell_type": "code",
   "execution_count": null,
   "metadata": {},
   "outputs": [],
   "source": [
    "# updating the value of multiple columns based on a condition on multiple columns\n",
    "temp_df = df.copy()\n",
    "temp_df.loc[(temp_df['Type2'] == \"POISON\") | (temp_df['Type2'] == \"FLYING\"), ['PD', 'SD']] += [1000, 2000]\n",
    "temp_df.head(6)"
   ]
  },
  {
   "cell_type": "markdown",
   "metadata": {},
   "source": [
    "## Aggregate Statistics / Group By"
   ]
  },
  {
   "cell_type": "code",
   "execution_count": null,
   "metadata": {},
   "outputs": [],
   "source": [
    "df.describe()"
   ]
  },
  {
   "cell_type": "code",
   "execution_count": null,
   "metadata": {},
   "outputs": [],
   "source": [
    "print(df.dtypes)"
   ]
  },
  {
   "cell_type": "code",
   "execution_count": null,
   "metadata": {},
   "outputs": [],
   "source": [
    "# grouping based on typing such that charizard gets counted in both FIRE & FLYING type\n",
    "df.groupby(['Type1']).mean(numeric_only=True)\n",
    "\n",
    "# df.groupby('Type1').mean(numeric_only=True)"
   ]
  },
  {
   "cell_type": "code",
   "execution_count": null,
   "metadata": {},
   "outputs": [],
   "source": [
    "df.groupby('Type1').mean(numeric_only=True).sort_values('BST', ascending=False).head(5)"
   ]
  },
  {
   "cell_type": "code",
   "execution_count": null,
   "metadata": {},
   "outputs": [],
   "source": [
    "df.groupby('Type1').sum(numeric_only=True).sort_values('BST', ascending=False).head(5)"
   ]
  },
  {
   "cell_type": "code",
   "execution_count": null,
   "metadata": {},
   "outputs": [],
   "source": [
    "df.groupby(['Type1', 'Type2']).count().sort_values('BST', ascending=False)"
   ]
  },
  {
   "cell_type": "markdown",
   "metadata": {},
   "source": [
    "## Working with a large amounts of data\n",
    "Incompelete"
   ]
  },
  {
   "cell_type": "code",
   "execution_count": null,
   "metadata": {},
   "outputs": [],
   "source": [
    "temp_df = pd.DataFrame(columns=df.columns)\n",
    "temp_df"
   ]
  },
  {
   "cell_type": "code",
   "execution_count": null,
   "metadata": {},
   "outputs": [],
   "source": [
    "for df in pd.read_csv('pokedex.csv', chunksize=5):\n",
    "    results = df.groupby('Type1').count()\n",
    "    temp_df = pd.concat([temp_df, results])\n",
    "\n",
    "temp_df"
   ]
  },
  {
   "cell_type": "code",
   "execution_count": null,
   "metadata": {},
   "outputs": [],
   "source": []
  }
 ],
 "metadata": {
  "kernelspec": {
   "display_name": "Python 3",
   "language": "python",
   "name": "python3"
  },
  "language_info": {
   "codemirror_mode": {
    "name": "ipython",
    "version": 3
   },
   "file_extension": ".py",
   "mimetype": "text/x-python",
   "name": "python",
   "nbconvert_exporter": "python",
   "pygments_lexer": "ipython3",
   "version": "3.13.2"
  }
 },
 "nbformat": 4,
 "nbformat_minor": 2
}
